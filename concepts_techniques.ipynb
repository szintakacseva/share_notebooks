{
 "cells": [
  {
   "cell_type": "markdown",
   "metadata": {},
   "source": [
    "# References\n",
    "1. Article on the topic Which Machine Learning Algorithms require Feature Scaling (Standardization and Normalization) and which not? [Standardization_and_Normalization](http://theprofessionalspoint.blogspot.com/2019/02/which-machine-learning-algorithms.html)       \n",
    "2. Comparing ML vs DeepLearning[ML_vs_DeepLearning](https://www.datacamp.com/community/tutorials/machine-deep-learning)       \n",
    "3. Applications of [Reinforcement_Learning](https://towardsdatascience.com/applications-of-reinforcement-learning-in-real-world-1a94955bcd12)"
   ]
  },
  {
   "cell_type": "markdown",
   "metadata": {},
   "source": [
    "# Which Machine Learning Algorithms require Feature Scaling and which not?"
   ]
  },
  {
   "cell_type": "raw",
   "metadata": {},
   "source": [
    "Feature Scaling (Standardization and Normalization) is one of the important steps while preparing the data. Whether to use feature scaling or not depends upon the algorithm you are using. Some algorithms require feature scaling and some don't. Lets see it in detail.\n",
    "\n",
    "Algorithms which require Feature Scaling (Standardization and Normalization)\n",
    "\n",
    "Any machine learning algorithm that computes the distance between the data points needs Feature Scaling (Standardization and Normalization). This includes all curve based algorithms. \n",
    "\n",
    "Example:\n",
    "\n",
    "1. KNN (K Nearest Neigbors)\n",
    "2. SVM (Support Vector Machine)\n",
    "3. Logistic Regression\n",
    "4. K-Means Clustering\n",
    "\n",
    "Algorithms that are used for matrix factorization, decomposition and dimensionality reduction also require feature scaling.\n",
    "\n",
    "Example:\n",
    "\n",
    "1. PCA (Principal Component Analysis)\n",
    "2. SVD (Singular Value Decomposition)\n",
    "\n",
    "Why is Feature Scaling required? \n",
    "\n",
    "Consider a dataset which contains the age and salary of the employee. Now age is a 2 digit number while salary would be of 5 to 6 digit. If we don't scale both the features (age and salary), salary will adversely affect the accuracy of the algorithm (if the algorithm is distance based). So, if we don't scale the features, then large scale features will dominate the small scale features due to which algorithm will produce wrong predictions.\n",
    "\n",
    "Algorithms which don't require Feature Scaling (Standardization and Normalization)\n",
    "\n",
    "The algorithms which rely on rules like tree based algorithms don't require Feature Scaling (Standardization and Normalization).\n",
    "\n",
    "Example:\n",
    "\n",
    "1. CART (Classification and Regression Trees)\n",
    "2. Random Forests\n",
    "3. Gradient Boosted Decision Trees\n",
    "\n",
    "Algorithms that rely on distributions of the variables also don't need feature scaling.\n",
    "\n",
    "Example: \n",
    "\n",
    "1. Naive Bayes \n",
    "\n"
   ]
  },
  {
   "cell_type": "markdown",
   "metadata": {},
   "source": [
    "# Differences between ML and Deep Learning"
   ]
  },
  {
   "cell_type": "markdown",
   "metadata": {},
   "source": [
    "# Reinforcement Learning"
   ]
  },
  {
   "cell_type": "raw",
   "metadata": {},
   "source": [
    "Reinforcement Learning: It is a type of machine learning that has an agent (like a robot) that learns how to behave in an environment by taking actions and quantifying the results. If the agent makes a correct response, it gets a reward point, which boosts up the agent's confidence to take more such actions. It works on Markov Decision Process also known as (MDP).\n",
    "\n",
    "For example: In the below figure, one can see that the agent (robot) takes action in the environment (a maze), interpreter being the eyes, it gets a reward for every correct move and depending on its current state it takes the next action. "
   ]
  },
  {
   "cell_type": "markdown",
   "metadata": {},
   "source": [
    "![Image](img/agent.png)"
   ]
  },
  {
   "cell_type": "raw",
   "metadata": {},
   "source": [
    "Some cool applications of Reinforcement learning are playing games (Alpha Go, Chess, Mario), robotics, traffic light control system, etc."
   ]
  }
 ],
 "metadata": {
  "kernelspec": {
   "display_name": "Python 3",
   "language": "python",
   "name": "python3"
  },
  "language_info": {
   "codemirror_mode": {
    "name": "ipython",
    "version": 3
   },
   "file_extension": ".py",
   "mimetype": "text/x-python",
   "name": "python",
   "nbconvert_exporter": "python",
   "pygments_lexer": "ipython3",
   "version": "3.8.3"
  }
 },
 "nbformat": 4,
 "nbformat_minor": 4
}
