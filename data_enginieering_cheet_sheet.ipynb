{
 "cells": [
  {
   "cell_type": "code",
   "execution_count": null,
   "id": "97a61d92-b8dd-4025-9e80-2d9f48d768ac",
   "metadata": {},
   "outputs": [],
   "source": [
    "# Data enginieering cheatsheet"
   ]
  },
  {
   "cell_type": "code",
   "execution_count": null,
   "id": "1e2e3e3f-7455-4e98-a3a6-bc6909231fc9",
   "metadata": {},
   "outputs": [],
   "source": [
    "# Tags\n",
    "EDA"
   ]
  },
  {
   "cell_type": "markdown",
   "id": "ad09f09f-ed91-4850-ad66-1f1baa5078eb",
   "metadata": {},
   "source": [
    "# References \n"
   ]
  },
  {
   "cell_type": "code",
   "execution_count": null,
   "id": "7f9e3090-93ab-41ac-aa96-adf0e0f47cf6",
   "metadata": {},
   "outputs": [],
   "source": [
    "[Data enginieering cheatsheet](https://medium.com/geekculture/the-basics-of-a-jupyter-notebook-pandas-cheat-sheet-for-data-engineers-c1099791a93c)  "
   ]
  },
  {
   "cell_type": "code",
   "execution_count": 5,
   "id": "758e8d7e-c6cb-47e7-8c95-e5659e117593",
   "metadata": {},
   "outputs": [],
   "source": [
    "import pandas as pd\n",
    "import numpy as np"
   ]
  },
  {
   "cell_type": "code",
   "execution_count": 2,
   "id": "ac8d52ca-aaad-447b-9eb7-a58199ec531e",
   "metadata": {},
   "outputs": [],
   "source": [
    "# Load data\n",
    "df = pd.read_csv('data/IMDB_Movie_Data.csv' ,sep=\",\")"
   ]
  },
  {
   "cell_type": "code",
   "execution_count": 4,
   "id": "4591f15d-84f5-4ad6-a241-b59cdffd1623",
   "metadata": {},
   "outputs": [],
   "source": [
    "# export df in a csv\n",
    "df.to_csv('data/my_data.csv', index=False, header=True)"
   ]
  },
  {
   "cell_type": "code",
   "execution_count": null,
   "id": "86b17769-b6a4-4084-baae-60bd029cd951",
   "metadata": {},
   "outputs": [],
   "source": [
    "## TOC:\n",
    "* [Exploring data](#explore-bullet)\n",
    "* [Statistics](#statistics-bullet)\n",
    "* [Import data](#import-bullet)\n",
    "* [Export data](#export-bullet)\n",
    "* [Column Manipulation](#column-bullet)\n",
    "* [String Manipulation](#string-bullet)\n",
    "* [Date Manipulation](#date-bullet)\n",
    "* [Sorting](#sorting-bullet)\n",
    "* [Row Manipulation](#row-bullet)\n",
    "* [Table groupby](#groupby-bullet)\n",
    "* [Table pivot](#pivot-bullet)\n",
    "* [Table join](#join-bullet)\n",
    "* [Table transform](#transform-bullet)\n",
    "* [Concatenate](#concatenate-bullet)"
   ]
  },
  {
   "cell_type": "code",
   "execution_count": null,
   "id": "034f2e84-0e9b-439f-bf71-91fa0eaaa4a6",
   "metadata": {},
   "outputs": [],
   "source": [
    "# Exploring data"
   ]
  },
  {
   "cell_type": "code",
   "execution_count": null,
   "id": "bb2a7045-9e88-44c4-a2b1-4c09a3c63847",
   "metadata": {},
   "outputs": [],
   "source": [
    "## Exploring data <a class=\"anchor\" id=\"explore-bullet\"></a>"
   ]
  },
  {
   "cell_type": "code",
   "execution_count": null,
   "id": "8094f834-f9ea-4f25-8da2-93faf896cd7b",
   "metadata": {},
   "outputs": [],
   "source": [
    "df.head()\n",
    "df.tail()\n",
    "df.sample(5)\n",
    "df.shape\n",
    "df.describe()\n",
    "df.info()"
   ]
  },
  {
   "cell_type": "markdown",
   "id": "80dc1e0e-3ef4-4690-8ecf-07160ffa9d4d",
   "metadata": {},
   "source": [
    "# Statistics"
   ]
  },
  {
   "cell_type": "markdown",
   "id": "564a8bbc-99b2-47c5-aed8-13203cda6d59",
   "metadata": {},
   "source": [
    "## Statistics <a class=\"anchor\" id=\"statistics-bullet\"></a>"
   ]
  },
  {
   "cell_type": "code",
   "execution_count": null,
   "id": "1a4087ba-1933-4b89-98c9-1390a1c7b208",
   "metadata": {},
   "outputs": [],
   "source": [
    "df.describe()\n",
    "df.mean()\n",
    "df.corr()\n",
    "df.count()\n",
    "df.max()\n",
    "df.min()\n",
    "df.median()\n",
    "df.std()"
   ]
  },
  {
   "cell_type": "code",
   "execution_count": null,
   "id": "fb069335-9383-4ab7-b35d-fe0f81267ad8",
   "metadata": {},
   "outputs": [],
   "source": [
    "# Import data from file"
   ]
  },
  {
   "cell_type": "code",
   "execution_count": null,
   "id": "b87f5c9a-70e7-42d1-9066-0cfd227cdd41",
   "metadata": {},
   "outputs": [],
   "source": [
    "## Import data <a class=\"anchor\" id=\"import-bullet\"></a>"
   ]
  },
  {
   "cell_type": "code",
   "execution_count": null,
   "id": "7cbefbc3-28a6-4869-8feb-427b55a3fe18",
   "metadata": {},
   "outputs": [],
   "source": [
    "# from csv\n",
    "df = pd.read_csv('data/my_data.csv' ,sep=\",\")\n",
    "\n",
    "# from excel\n",
    "df = pd.read_excel('data/my_data.xlsx' ,sheetname='sheet1', skiprows=[1])"
   ]
  },
  {
   "cell_type": "code",
   "execution_count": null,
   "id": "05d3d706-eda3-45b7-9ed8-36cbb49ec1f0",
   "metadata": {},
   "outputs": [],
   "source": [
    "## Export data <a class=\"anchor\" id=\"export-bullet\"></a>"
   ]
  },
  {
   "cell_type": "code",
   "execution_count": null,
   "id": "c6e7e97f-cd6c-4f2a-8b79-41a463447899",
   "metadata": {},
   "outputs": [],
   "source": [
    "# export df in a csv\n",
    "df.to_csv('data/my_data.csv', index=False, header=True)\n",
    "\n",
    "# export df to excel\n",
    "df.to_excel('data/my_data.xlsx')"
   ]
  },
  {
   "cell_type": "markdown",
   "id": "b240b604-aa0f-4537-9da0-1a895dcabf16",
   "metadata": {},
   "source": [
    "## Column Manipulation <a class=\"anchor\" id=\"column-bullet\"></a>"
   ]
  },
  {
   "cell_type": "code",
   "execution_count": null,
   "id": "06e914c1-4b60-4e94-9c1f-5a24415c9d03",
   "metadata": {},
   "outputs": [],
   "source": [
    "df[['Title', 'Rating']]\n",
    "df.filter(['Title', 'Rating'])"
   ]
  },
  {
   "cell_type": "markdown",
   "id": "917d00d3-7992-459c-b958-d33e4ef33be2",
   "metadata": {},
   "source": [
    "# Column Rename"
   ]
  },
  {
   "cell_type": "code",
   "execution_count": null,
   "id": "a0e45f78-1498-4a91-a8eb-c85f4fd56a56",
   "metadata": {},
   "outputs": [],
   "source": [
    "df.rename(columns={'Title':'a', 'Rating':'b'}, inplace=True)\n",
    "df.rename(columns={'a':'Title', 'b':'Rating'}, inplace=True)"
   ]
  },
  {
   "cell_type": "markdown",
   "id": "8e174e2e-429a-4c27-baf5-d60268eb8eed",
   "metadata": {},
   "source": [
    "# Column Reorder"
   ]
  },
  {
   "cell_type": "code",
   "execution_count": null,
   "id": "8479fd80-75de-478e-bb7c-db517a678cdd",
   "metadata": {},
   "outputs": [],
   "source": [
    "# show column values\n",
    "df.columns.values\n",
    "\n",
    "# reorder\n",
    "df[['Title', ....]]"
   ]
  },
  {
   "cell_type": "markdown",
   "id": "e208a9f3-f28f-40a3-829b-8998927cfa17",
   "metadata": {},
   "source": [
    "# Adding a new column"
   ]
  },
  {
   "cell_type": "code",
   "execution_count": null,
   "id": "5599199b-f73c-4935-99e4-7930799e49c5",
   "metadata": {},
   "outputs": [],
   "source": [
    "df['new column'] = 23\n",
    "df['Rating_Votes'] = df.Rating + df.Votes"
   ]
  },
  {
   "cell_type": "markdown",
   "id": "f491527b-e11f-4103-96bb-e580662c907c",
   "metadata": {},
   "source": [
    "# Changing the type of the column"
   ]
  },
  {
   "cell_type": "code",
   "execution_count": null,
   "id": "57cea70e-d91d-4a59-ac45-8b8120f0fd42",
   "metadata": {},
   "outputs": [],
   "source": [
    "df['Year_str'] = df['Year'].astype(str)\n",
    "df['Year_int'] = df['Year_str'].astype(int)\n",
    "\n",
    "# Double to int\n",
    "df['Rating_int'] = df['Rating'].round(0).astype(int)"
   ]
  },
  {
   "cell_type": "markdown",
   "id": "e5f6f1e9-3aa6-4ff7-be83-47e45bc3a94d",
   "metadata": {},
   "source": [
    "## String Manipulation <a class=\"anchor\" id=\"string-bullet\"></a>"
   ]
  },
  {
   "cell_type": "code",
   "execution_count": null,
   "id": "73f9901f-80a7-458a-a408-7aa3ef86b566",
   "metadata": {},
   "outputs": [],
   "source": [
    "df['Title_lower'] = df['Title'].str.lower()\n",
    "df['Title_upper'] = df['Title'].str.upper()\n",
    "df['Title_len'] = df['Title'].str.len()\n",
    "\n",
    "# first word\n",
    "df['Title_first_word'] = df['Title'].str.split('')[0]\n",
    "\n",
    "# find word 'Squad' in the title\n",
    "df['Title_squad'] = df['Title'].str.find('Squad', 0)"
   ]
  },
  {
   "cell_type": "markdown",
   "id": "7ea2cd2f-2be3-4a38-87e3-c598e4982e2c",
   "metadata": {},
   "source": [
    "# check python string format"
   ]
  },
  {
   "cell_type": "code",
   "execution_count": null,
   "id": "5674b969-24be-4daf-9d4d-a3fb914b28f8",
   "metadata": {},
   "outputs": [],
   "source": [
    "# x/x/xxxx xx:xx\n",
    "\n",
    "import re\n",
    "r = re.compile('.*/.*/.*:.*')\n",
    "if r.match('x/x/xxxx xx:xx') is not None:\n",
    "   print 'matches'\n"
   ]
  },
  {
   "cell_type": "markdown",
   "id": "0ca188d6-fe99-4a15-a05e-c6d31e7afb55",
   "metadata": {},
   "source": [
    "## Date Manipulation <a class=\"anchor\" id=\"date-bullet\"></a>"
   ]
  },
  {
   "cell_type": "code",
   "execution_count": null,
   "id": "d6118698-ce02-493f-9519-8219edeaf3b0",
   "metadata": {},
   "outputs": [],
   "source": [
    "pd.to_datetime('2020/10/13')"
   ]
  },
  {
   "cell_type": "markdown",
   "id": "4d710936-f5b3-47e3-a445-a028936d8744",
   "metadata": {},
   "source": [
    "## Sorting <a class=\"anchor\" id=\"sorting-bullet\"></a>"
   ]
  },
  {
   "cell_type": "code",
   "execution_count": null,
   "id": "eddb9e55-1b52-4919-9c1b-9ae6d8482383",
   "metadata": {},
   "outputs": [],
   "source": [
    "df.sort_values(by='Title', ascending=True)\n",
    "df.sort_values(by=['Title', 'Year'], ascending=True)"
   ]
  },
  {
   "cell_type": "markdown",
   "id": "d52db908-dd8b-4894-a622-762c95e0e500",
   "metadata": {},
   "source": [
    "## Row Manipulation <a class=\"anchor\" id=\"row-bullet\"></a>"
   ]
  },
  {
   "cell_type": "code",
   "execution_count": null,
   "id": "5a022a37-438c-44a3-9937-6dd4468ac70f",
   "metadata": {},
   "outputs": [],
   "source": [
    "df[df.Title == 'Prometheus']\n",
    "df[(df.Year == 1998 ) & (df.Rating > 8.5)]\n",
    "titel = ['Prometheus', 'Song', 'Guardians of the Galaxy']\n",
    "df[df.Title.isin(titel)]\n",
    "# select rows 1:3\n",
    "df.iloc[0:3]\n",
    "# first 4 rows and first 2 columns\n",
    "df.iloc[0:4, 0:3]"
   ]
  },
  {
   "cell_type": "markdown",
   "id": "e084fcfd-ad1a-40b1-9693-e84c9a9f4e94",
   "metadata": {},
   "source": [
    "## Table groupby <a class=\"anchor\" id=\"groupby-bullet\"></a>"
   ]
  },
  {
   "cell_type": "code",
   "execution_count": null,
   "id": "c8799ad1-26d1-47f8-892a-361d29c62206",
   "metadata": {},
   "outputs": [],
   "source": [
    "# nr of titles per year\n",
    "df.groupby('Year')['Title'].count().to_frame()\n",
    "\n",
    "# nr of titles per year and per director\n",
    "df.groupby(['Year', 'Director'])['Title'].count().to_frame()\n",
    "\n",
    "# Rating mean per Director\n",
    "df.groupby('Director')['Rating'].mean().to_frame().rest_index()\n",
    "\n",
    "# combination of different groups per functions\n",
    "\n",
    "df.groupby(['Year', 'Director']).agg(\n",
    "    {'Title':\"count\", # nr of titles per year and per director\n",
    "     'Rating':\"mean\", # mean Rating per year and per director\n",
    "     'Revenue (Millions)': \"sum\", # sum of revenue per year and per director\n",
    "    }).reset_index()"
   ]
  },
  {
   "cell_type": "markdown",
   "id": "14ff4acc-b03d-4010-8e18-17ea1e4f029a",
   "metadata": {},
   "source": [
    "## Table pivot <a class=\"anchor\" id=\"pivot-bullet\"></a>"
   ]
  },
  {
   "cell_type": "code",
   "execution_count": null,
   "id": "70acd620-9e79-4fef-8574-bb26dabf4fd4",
   "metadata": {},
   "outputs": [],
   "source": [
    "# pivot over Director and mean over other columns\n",
    "pd.pivot_table(df, index=['Director']).reset_index()\n",
    "\n",
    "# pivot with sum\n",
    "pd.pivot_table(df, index=['Director', 'Year'], values = ['Revenue (Millions)'], aggfunc=np.sum).reset_index()\n",
    "\n",
    "# unpivot over years\n",
    "pd.pivot_table(df, values = ['Rating'], columns =['Year']).reset_index()\n",
    "\n",
    "df.melt(id_vars=['index'], var_name= 'Year', value_name='Title')\n"
   ]
  },
  {
   "cell_type": "code",
   "execution_count": 4,
   "id": "2ae6803a-f082-45e0-8a39-4a0bd9c7ee7b",
   "metadata": {},
   "outputs": [
    {
     "data": {
      "text/html": [
       "<div>\n",
       "<style scoped>\n",
       "    .dataframe tbody tr th:only-of-type {\n",
       "        vertical-align: middle;\n",
       "    }\n",
       "\n",
       "    .dataframe tbody tr th {\n",
       "        vertical-align: top;\n",
       "    }\n",
       "\n",
       "    .dataframe thead th {\n",
       "        text-align: right;\n",
       "    }\n",
       "</style>\n",
       "<table border=\"1\" class=\"dataframe\">\n",
       "  <thead>\n",
       "    <tr style=\"text-align: right;\">\n",
       "      <th>Year</th>\n",
       "      <th>index</th>\n",
       "      <th>2006</th>\n",
       "      <th>2007</th>\n",
       "      <th>2008</th>\n",
       "      <th>2009</th>\n",
       "      <th>2010</th>\n",
       "      <th>2011</th>\n",
       "      <th>2012</th>\n",
       "      <th>2013</th>\n",
       "      <th>2014</th>\n",
       "      <th>2015</th>\n",
       "      <th>2016</th>\n",
       "    </tr>\n",
       "  </thead>\n",
       "  <tbody>\n",
       "    <tr>\n",
       "      <th>0</th>\n",
       "      <td>Rating</td>\n",
       "      <td>7.125</td>\n",
       "      <td>7.133962</td>\n",
       "      <td>6.784615</td>\n",
       "      <td>6.960784</td>\n",
       "      <td>6.826667</td>\n",
       "      <td>6.838095</td>\n",
       "      <td>6.925</td>\n",
       "      <td>6.812088</td>\n",
       "      <td>6.837755</td>\n",
       "      <td>6.602362</td>\n",
       "      <td>6.4367</td>\n",
       "    </tr>\n",
       "  </tbody>\n",
       "</table>\n",
       "</div>"
      ],
      "text/plain": [
       "Year   index   2006      2007      2008      2009      2010      2011   2012  \\\n",
       "0     Rating  7.125  7.133962  6.784615  6.960784  6.826667  6.838095  6.925   \n",
       "\n",
       "Year      2013      2014      2015    2016  \n",
       "0     6.812088  6.837755  6.602362  6.4367  "
      ]
     },
     "execution_count": 4,
     "metadata": {},
     "output_type": "execute_result"
    }
   ],
   "source": [
    "# unpivot over years\n",
    "pd.pivot_table(df, values = ['Rating'], columns =['Year']).reset_index()"
   ]
  },
  {
   "cell_type": "markdown",
   "id": "349852d4-f314-45d0-a07a-def7730daddd",
   "metadata": {},
   "source": [
    "## Table join <a class=\"anchor\" id=\"join-bullet\"></a>"
   ]
  },
  {
   "cell_type": "code",
   "execution_count": null,
   "id": "2c42c427-afb5-4ad5-950d-9dc4aae7741f",
   "metadata": {},
   "outputs": [],
   "source": [
    "# create new dataframe df_dir_movies\n",
    "df_dir_movies = df.groupby([\"Director\"])[\"Title\"].count().to_frame(name = 'number of movies').reset_index()\n",
    "    \n",
    "# create new dataframe df_dir_rev\n",
    "df_dir_rev = df.groupby([\"Director\"])[\"Revenue (Millions)\"].sum().to_frame(name = 'Revenue').reset_index()\n",
    "\n",
    "# join the dataframe df_dir_movies with df_dir_rev\n",
    "# how = rigtht, left, inner or outer\n",
    "\n",
    "pd.merge(df_dir_movies,df_dir_rev, left_on=['Director'], right_on=['Director'],how = 'left')"
   ]
  },
  {
   "cell_type": "markdown",
   "id": "bcafbced-d564-48ce-9ac6-a0890b3f3092",
   "metadata": {},
   "source": [
    "## Table transform <a class=\"anchor\" id=\"transform-bullet\"></a>"
   ]
  },
  {
   "cell_type": "code",
   "execution_count": null,
   "id": "8427ef6c-9d8d-472a-bf6c-f3bf156653ed",
   "metadata": {},
   "outputs": [],
   "source": [
    "# pd.transform(func, axis=0) 0-column, 1-row"
   ]
  },
  {
   "cell_type": "code",
   "execution_count": 6,
   "id": "295743ce-c098-4154-80ac-cd93c4f119ae",
   "metadata": {},
   "outputs": [
    {
     "data": {
      "text/html": [
       "<div>\n",
       "<style scoped>\n",
       "    .dataframe tbody tr th:only-of-type {\n",
       "        vertical-align: middle;\n",
       "    }\n",
       "\n",
       "    .dataframe tbody tr th {\n",
       "        vertical-align: top;\n",
       "    }\n",
       "\n",
       "    .dataframe thead th {\n",
       "        text-align: right;\n",
       "    }\n",
       "</style>\n",
       "<table border=\"1\" class=\"dataframe\">\n",
       "  <thead>\n",
       "    <tr style=\"text-align: right;\">\n",
       "      <th></th>\n",
       "      <th>A</th>\n",
       "      <th>B</th>\n",
       "    </tr>\n",
       "  </thead>\n",
       "  <tbody>\n",
       "    <tr>\n",
       "      <th>0</th>\n",
       "      <td>1</td>\n",
       "      <td>10</td>\n",
       "    </tr>\n",
       "    <tr>\n",
       "      <th>1</th>\n",
       "      <td>2</td>\n",
       "      <td>20</td>\n",
       "    </tr>\n",
       "    <tr>\n",
       "      <th>2</th>\n",
       "      <td>3</td>\n",
       "      <td>30</td>\n",
       "    </tr>\n",
       "  </tbody>\n",
       "</table>\n",
       "</div>"
      ],
      "text/plain": [
       "   A   B\n",
       "0  1  10\n",
       "1  2  20\n",
       "2  3  30"
      ]
     },
     "execution_count": 6,
     "metadata": {},
     "output_type": "execute_result"
    }
   ],
   "source": [
    "df = pd.DataFrame({'A': [1,2,3], 'B': [10,20,30] })\n",
    "df"
   ]
  },
  {
   "cell_type": "code",
   "execution_count": 9,
   "id": "90ce8c49-2238-44b3-88ca-a4a990f42d76",
   "metadata": {},
   "outputs": [
    {
     "data": {
      "text/html": [
       "<div>\n",
       "<style scoped>\n",
       "    .dataframe tbody tr th:only-of-type {\n",
       "        vertical-align: middle;\n",
       "    }\n",
       "\n",
       "    .dataframe tbody tr th {\n",
       "        vertical-align: top;\n",
       "    }\n",
       "\n",
       "    .dataframe thead th {\n",
       "        text-align: right;\n",
       "    }\n",
       "</style>\n",
       "<table border=\"1\" class=\"dataframe\">\n",
       "  <thead>\n",
       "    <tr style=\"text-align: right;\">\n",
       "      <th></th>\n",
       "      <th>A</th>\n",
       "      <th>B</th>\n",
       "    </tr>\n",
       "  </thead>\n",
       "  <tbody>\n",
       "    <tr>\n",
       "      <th>0</th>\n",
       "      <td>11</td>\n",
       "      <td>20</td>\n",
       "    </tr>\n",
       "    <tr>\n",
       "      <th>1</th>\n",
       "      <td>12</td>\n",
       "      <td>30</td>\n",
       "    </tr>\n",
       "    <tr>\n",
       "      <th>2</th>\n",
       "      <td>13</td>\n",
       "      <td>40</td>\n",
       "    </tr>\n",
       "  </tbody>\n",
       "</table>\n",
       "</div>"
      ],
      "text/plain": [
       "    A   B\n",
       "0  11  20\n",
       "1  12  30\n",
       "2  13  40"
      ]
     },
     "execution_count": 9,
     "metadata": {},
     "output_type": "execute_result"
    }
   ],
   "source": [
    "# 1. apply a function to a df\n",
    "def plus_10(x):\n",
    "    return x+10\n",
    "df.transform(plus_10)"
   ]
  },
  {
   "cell_type": "code",
   "execution_count": 10,
   "id": "8c57d028-e2fd-4d7b-a9c5-55353225314b",
   "metadata": {},
   "outputs": [
    {
     "data": {
      "text/html": [
       "<div>\n",
       "<style scoped>\n",
       "    .dataframe tbody tr th:only-of-type {\n",
       "        vertical-align: middle;\n",
       "    }\n",
       "\n",
       "    .dataframe tbody tr th {\n",
       "        vertical-align: top;\n",
       "    }\n",
       "\n",
       "    .dataframe thead th {\n",
       "        text-align: right;\n",
       "    }\n",
       "</style>\n",
       "<table border=\"1\" class=\"dataframe\">\n",
       "  <thead>\n",
       "    <tr style=\"text-align: right;\">\n",
       "      <th></th>\n",
       "      <th>A</th>\n",
       "      <th>B</th>\n",
       "    </tr>\n",
       "  </thead>\n",
       "  <tbody>\n",
       "    <tr>\n",
       "      <th>0</th>\n",
       "      <td>11</td>\n",
       "      <td>20</td>\n",
       "    </tr>\n",
       "    <tr>\n",
       "      <th>1</th>\n",
       "      <td>12</td>\n",
       "      <td>30</td>\n",
       "    </tr>\n",
       "    <tr>\n",
       "      <th>2</th>\n",
       "      <td>13</td>\n",
       "      <td>40</td>\n",
       "    </tr>\n",
       "  </tbody>\n",
       "</table>\n",
       "</div>"
      ],
      "text/plain": [
       "    A   B\n",
       "0  11  20\n",
       "1  12  30\n",
       "2  13  40"
      ]
     },
     "execution_count": 10,
     "metadata": {},
     "output_type": "execute_result"
    }
   ],
   "source": [
    "# 2. apply a lambda function\n",
    "df.transform(lambda x: x+10)"
   ]
  },
  {
   "cell_type": "code",
   "execution_count": 11,
   "id": "cb685d7a-ef89-4d8a-8eb4-f76019696ef7",
   "metadata": {},
   "outputs": [
    {
     "data": {
      "text/html": [
       "<div>\n",
       "<style scoped>\n",
       "    .dataframe tbody tr th:only-of-type {\n",
       "        vertical-align: middle;\n",
       "    }\n",
       "\n",
       "    .dataframe tbody tr th {\n",
       "        vertical-align: top;\n",
       "    }\n",
       "\n",
       "    .dataframe thead th {\n",
       "        text-align: right;\n",
       "    }\n",
       "</style>\n",
       "<table border=\"1\" class=\"dataframe\">\n",
       "  <thead>\n",
       "    <tr style=\"text-align: right;\">\n",
       "      <th></th>\n",
       "      <th>A</th>\n",
       "      <th>B</th>\n",
       "    </tr>\n",
       "  </thead>\n",
       "  <tbody>\n",
       "    <tr>\n",
       "      <th>0</th>\n",
       "      <td>1.000000</td>\n",
       "      <td>3.162278</td>\n",
       "    </tr>\n",
       "    <tr>\n",
       "      <th>1</th>\n",
       "      <td>1.414214</td>\n",
       "      <td>4.472136</td>\n",
       "    </tr>\n",
       "    <tr>\n",
       "      <th>2</th>\n",
       "      <td>1.732051</td>\n",
       "      <td>5.477226</td>\n",
       "    </tr>\n",
       "  </tbody>\n",
       "</table>\n",
       "</div>"
      ],
      "text/plain": [
       "          A         B\n",
       "0  1.000000  3.162278\n",
       "1  1.414214  4.472136\n",
       "2  1.732051  5.477226"
      ]
     },
     "execution_count": 11,
     "metadata": {},
     "output_type": "execute_result"
    }
   ],
   "source": [
    "# 3. apply transformation by passi a valid function as a string\n",
    "df.transform('sqrt')"
   ]
  },
  {
   "cell_type": "code",
   "execution_count": 16,
   "id": "bbe760ef-e80a-47b2-a6d2-da10481eb419",
   "metadata": {},
   "outputs": [
    {
     "data": {
      "text/html": [
       "<div>\n",
       "<style scoped>\n",
       "    .dataframe tbody tr th:only-of-type {\n",
       "        vertical-align: middle;\n",
       "    }\n",
       "\n",
       "    .dataframe tbody tr th {\n",
       "        vertical-align: top;\n",
       "    }\n",
       "\n",
       "    .dataframe thead tr th {\n",
       "        text-align: left;\n",
       "    }\n",
       "</style>\n",
       "<table border=\"1\" class=\"dataframe\">\n",
       "  <thead>\n",
       "    <tr>\n",
       "      <th></th>\n",
       "      <th colspan=\"2\" halign=\"left\">A</th>\n",
       "      <th colspan=\"2\" halign=\"left\">B</th>\n",
       "    </tr>\n",
       "    <tr>\n",
       "      <th></th>\n",
       "      <th>sqrt</th>\n",
       "      <th>exp</th>\n",
       "      <th>sqrt</th>\n",
       "      <th>exp</th>\n",
       "    </tr>\n",
       "  </thead>\n",
       "  <tbody>\n",
       "    <tr>\n",
       "      <th>0</th>\n",
       "      <td>1.000000</td>\n",
       "      <td>2.718282</td>\n",
       "      <td>3.162278</td>\n",
       "      <td>2.202647e+04</td>\n",
       "    </tr>\n",
       "    <tr>\n",
       "      <th>1</th>\n",
       "      <td>1.414214</td>\n",
       "      <td>7.389056</td>\n",
       "      <td>4.472136</td>\n",
       "      <td>4.851652e+08</td>\n",
       "    </tr>\n",
       "    <tr>\n",
       "      <th>2</th>\n",
       "      <td>1.732051</td>\n",
       "      <td>20.085537</td>\n",
       "      <td>5.477226</td>\n",
       "      <td>1.068647e+13</td>\n",
       "    </tr>\n",
       "  </tbody>\n",
       "</table>\n",
       "</div>"
      ],
      "text/plain": [
       "          A                    B              \n",
       "       sqrt        exp      sqrt           exp\n",
       "0  1.000000   2.718282  3.162278  2.202647e+04\n",
       "1  1.414214   7.389056  4.472136  4.851652e+08\n",
       "2  1.732051  20.085537  5.477226  1.068647e+13"
      ]
     },
     "execution_count": 16,
     "metadata": {},
     "output_type": "execute_result"
    }
   ],
   "source": [
    "# 4. apply a list of functions\n",
    "df.transform([np.sqrt, np.exp])"
   ]
  },
  {
   "cell_type": "code",
   "execution_count": 17,
   "id": "1e2ce7ae-053f-48ad-bcf8-edafb44cee48",
   "metadata": {},
   "outputs": [
    {
     "data": {
      "text/html": [
       "<div>\n",
       "<style scoped>\n",
       "    .dataframe tbody tr th:only-of-type {\n",
       "        vertical-align: middle;\n",
       "    }\n",
       "\n",
       "    .dataframe tbody tr th {\n",
       "        vertical-align: top;\n",
       "    }\n",
       "\n",
       "    .dataframe thead th {\n",
       "        text-align: right;\n",
       "    }\n",
       "</style>\n",
       "<table border=\"1\" class=\"dataframe\">\n",
       "  <thead>\n",
       "    <tr style=\"text-align: right;\">\n",
       "      <th></th>\n",
       "      <th>A</th>\n",
       "      <th>B</th>\n",
       "    </tr>\n",
       "  </thead>\n",
       "  <tbody>\n",
       "    <tr>\n",
       "      <th>0</th>\n",
       "      <td>1.000000</td>\n",
       "      <td>2.202647e+04</td>\n",
       "    </tr>\n",
       "    <tr>\n",
       "      <th>1</th>\n",
       "      <td>1.414214</td>\n",
       "      <td>4.851652e+08</td>\n",
       "    </tr>\n",
       "    <tr>\n",
       "      <th>2</th>\n",
       "      <td>1.732051</td>\n",
       "      <td>1.068647e+13</td>\n",
       "    </tr>\n",
       "  </tbody>\n",
       "</table>\n",
       "</div>"
      ],
      "text/plain": [
       "          A             B\n",
       "0  1.000000  2.202647e+04\n",
       "1  1.414214  4.851652e+08\n",
       "2  1.732051  1.068647e+13"
      ]
     },
     "execution_count": 17,
     "metadata": {},
     "output_type": "execute_result"
    }
   ],
   "source": [
    "# 5. apply a dict to columns\n",
    "df.transform({\n",
    "    'A': np.sqrt,\n",
    "    'B': np.exp,\n",
    "})"
   ]
  },
  {
   "cell_type": "code",
   "execution_count": 19,
   "id": "ae21f933-6577-4afd-87a4-4f373e00312b",
   "metadata": {},
   "outputs": [
    {
     "data": {
      "text/html": [
       "<div>\n",
       "<style scoped>\n",
       "    .dataframe tbody tr th:only-of-type {\n",
       "        vertical-align: middle;\n",
       "    }\n",
       "\n",
       "    .dataframe tbody tr th {\n",
       "        vertical-align: top;\n",
       "    }\n",
       "\n",
       "    .dataframe thead th {\n",
       "        text-align: right;\n",
       "    }\n",
       "</style>\n",
       "<table border=\"1\" class=\"dataframe\">\n",
       "  <thead>\n",
       "    <tr style=\"text-align: right;\">\n",
       "      <th></th>\n",
       "      <th>restaurant_id</th>\n",
       "      <th>address</th>\n",
       "      <th>city</th>\n",
       "      <th>sales</th>\n",
       "    </tr>\n",
       "  </thead>\n",
       "  <tbody>\n",
       "    <tr>\n",
       "      <th>0</th>\n",
       "      <td>101</td>\n",
       "      <td>A</td>\n",
       "      <td>London</td>\n",
       "      <td>10</td>\n",
       "    </tr>\n",
       "    <tr>\n",
       "      <th>1</th>\n",
       "      <td>102</td>\n",
       "      <td>B</td>\n",
       "      <td>London</td>\n",
       "      <td>500</td>\n",
       "    </tr>\n",
       "    <tr>\n",
       "      <th>2</th>\n",
       "      <td>103</td>\n",
       "      <td>C</td>\n",
       "      <td>London</td>\n",
       "      <td>48</td>\n",
       "    </tr>\n",
       "    <tr>\n",
       "      <th>3</th>\n",
       "      <td>104</td>\n",
       "      <td>D</td>\n",
       "      <td>Oxford</td>\n",
       "      <td>12</td>\n",
       "    </tr>\n",
       "    <tr>\n",
       "      <th>4</th>\n",
       "      <td>105</td>\n",
       "      <td>E</td>\n",
       "      <td>Oxford</td>\n",
       "      <td>21</td>\n",
       "    </tr>\n",
       "    <tr>\n",
       "      <th>5</th>\n",
       "      <td>106</td>\n",
       "      <td>F</td>\n",
       "      <td>Durham</td>\n",
       "      <td>22</td>\n",
       "    </tr>\n",
       "    <tr>\n",
       "      <th>6</th>\n",
       "      <td>107</td>\n",
       "      <td>G</td>\n",
       "      <td>Durham</td>\n",
       "      <td>14</td>\n",
       "    </tr>\n",
       "  </tbody>\n",
       "</table>\n",
       "</div>"
      ],
      "text/plain": [
       "   restaurant_id address    city  sales\n",
       "0            101       A  London     10\n",
       "1            102       B  London    500\n",
       "2            103       C  London     48\n",
       "3            104       D  Oxford     12\n",
       "4            105       E  Oxford     21\n",
       "5            106       F  Durham     22\n",
       "6            107       G  Durham     14"
      ]
     },
     "execution_count": 19,
     "metadata": {},
     "output_type": "execute_result"
    }
   ],
   "source": [
    "# 6. Combining groupby results\n",
    "df = pd.DataFrame({\n",
    "  'restaurant_id': [101,102,103,104,105,106,107],\n",
    "  'address': ['A','B','C','D', 'E', 'F', 'G'],\n",
    "  'city': ['London','London','London','Oxford','Oxford', 'Durham', 'Durham'],\n",
    "  'sales': [10,500,48,12,21,22,14]\n",
    "})\n",
    "df\n",
    "# We can see that each city has multiple restaurants with sales. "
   ]
  },
  {
   "cell_type": "code",
   "execution_count": 24,
   "id": "e265272a-be33-4864-b032-e72824aac10d",
   "metadata": {},
   "outputs": [
    {
     "data": {
      "text/html": [
       "<div>\n",
       "<style scoped>\n",
       "    .dataframe tbody tr th:only-of-type {\n",
       "        vertical-align: middle;\n",
       "    }\n",
       "\n",
       "    .dataframe tbody tr th {\n",
       "        vertical-align: top;\n",
       "    }\n",
       "\n",
       "    .dataframe thead th {\n",
       "        text-align: right;\n",
       "    }\n",
       "</style>\n",
       "<table border=\"1\" class=\"dataframe\">\n",
       "  <thead>\n",
       "    <tr style=\"text-align: right;\">\n",
       "      <th></th>\n",
       "      <th>restaurant_id</th>\n",
       "      <th>address</th>\n",
       "      <th>city</th>\n",
       "      <th>sales</th>\n",
       "      <th>city_total_sales</th>\n",
       "      <th>pct</th>\n",
       "    </tr>\n",
       "  </thead>\n",
       "  <tbody>\n",
       "    <tr>\n",
       "      <th>0</th>\n",
       "      <td>101</td>\n",
       "      <td>A</td>\n",
       "      <td>London</td>\n",
       "      <td>10</td>\n",
       "      <td>558</td>\n",
       "      <td>1.79%</td>\n",
       "    </tr>\n",
       "    <tr>\n",
       "      <th>1</th>\n",
       "      <td>102</td>\n",
       "      <td>B</td>\n",
       "      <td>London</td>\n",
       "      <td>500</td>\n",
       "      <td>558</td>\n",
       "      <td>89.61%</td>\n",
       "    </tr>\n",
       "    <tr>\n",
       "      <th>2</th>\n",
       "      <td>103</td>\n",
       "      <td>C</td>\n",
       "      <td>London</td>\n",
       "      <td>48</td>\n",
       "      <td>558</td>\n",
       "      <td>8.60%</td>\n",
       "    </tr>\n",
       "    <tr>\n",
       "      <th>3</th>\n",
       "      <td>104</td>\n",
       "      <td>D</td>\n",
       "      <td>Oxford</td>\n",
       "      <td>12</td>\n",
       "      <td>33</td>\n",
       "      <td>36.36%</td>\n",
       "    </tr>\n",
       "    <tr>\n",
       "      <th>4</th>\n",
       "      <td>105</td>\n",
       "      <td>E</td>\n",
       "      <td>Oxford</td>\n",
       "      <td>21</td>\n",
       "      <td>33</td>\n",
       "      <td>63.64%</td>\n",
       "    </tr>\n",
       "    <tr>\n",
       "      <th>5</th>\n",
       "      <td>106</td>\n",
       "      <td>F</td>\n",
       "      <td>Durham</td>\n",
       "      <td>22</td>\n",
       "      <td>36</td>\n",
       "      <td>61.11%</td>\n",
       "    </tr>\n",
       "    <tr>\n",
       "      <th>6</th>\n",
       "      <td>107</td>\n",
       "      <td>G</td>\n",
       "      <td>Durham</td>\n",
       "      <td>14</td>\n",
       "      <td>36</td>\n",
       "      <td>38.89%</td>\n",
       "    </tr>\n",
       "  </tbody>\n",
       "</table>\n",
       "</div>"
      ],
      "text/plain": [
       "   restaurant_id address    city  sales  city_total_sales     pct\n",
       "0            101       A  London     10               558   1.79%\n",
       "1            102       B  London    500               558  89.61%\n",
       "2            103       C  London     48               558   8.60%\n",
       "3            104       D  Oxford     12                33  36.36%\n",
       "4            105       E  Oxford     21                33  63.64%\n",
       "5            106       F  Durham     22                36  61.11%\n",
       "6            107       G  Durham     14                36  38.89%"
      ]
     },
     "execution_count": 24,
     "metadata": {},
     "output_type": "execute_result"
    }
   ],
   "source": [
    "# We would like to know “What is the percentage of sales each restaurant represents in the city”. \n",
    "df['city_total_sales'] = df.groupby('city')['sales']\\\n",
    "                           .transform('sum')\n",
    "\n",
    "df['pct'] = df['sales'] / df['city_total_sales']\n",
    "df['pct'] = df['pct'].apply(lambda x: format(x, '.2%'))\n",
    "df"
   ]
  },
  {
   "cell_type": "code",
   "execution_count": 25,
   "id": "b37b0a42-6d0d-4b2e-ad0c-9d0de2329b13",
   "metadata": {},
   "outputs": [
    {
     "data": {
      "text/html": [
       "<div>\n",
       "<style scoped>\n",
       "    .dataframe tbody tr th:only-of-type {\n",
       "        vertical-align: middle;\n",
       "    }\n",
       "\n",
       "    .dataframe tbody tr th {\n",
       "        vertical-align: top;\n",
       "    }\n",
       "\n",
       "    .dataframe thead th {\n",
       "        text-align: right;\n",
       "    }\n",
       "</style>\n",
       "<table border=\"1\" class=\"dataframe\">\n",
       "  <thead>\n",
       "    <tr style=\"text-align: right;\">\n",
       "      <th></th>\n",
       "      <th>restaurant_id</th>\n",
       "      <th>address</th>\n",
       "      <th>city</th>\n",
       "      <th>sales</th>\n",
       "      <th>city_total_sales</th>\n",
       "      <th>pct</th>\n",
       "    </tr>\n",
       "  </thead>\n",
       "  <tbody>\n",
       "    <tr>\n",
       "      <th>0</th>\n",
       "      <td>101</td>\n",
       "      <td>A</td>\n",
       "      <td>London</td>\n",
       "      <td>10</td>\n",
       "      <td>558</td>\n",
       "      <td>1.79%</td>\n",
       "    </tr>\n",
       "    <tr>\n",
       "      <th>1</th>\n",
       "      <td>102</td>\n",
       "      <td>B</td>\n",
       "      <td>London</td>\n",
       "      <td>500</td>\n",
       "      <td>558</td>\n",
       "      <td>89.61%</td>\n",
       "    </tr>\n",
       "    <tr>\n",
       "      <th>2</th>\n",
       "      <td>103</td>\n",
       "      <td>C</td>\n",
       "      <td>London</td>\n",
       "      <td>48</td>\n",
       "      <td>558</td>\n",
       "      <td>8.60%</td>\n",
       "    </tr>\n",
       "  </tbody>\n",
       "</table>\n",
       "</div>"
      ],
      "text/plain": [
       "   restaurant_id address    city  sales  city_total_sales     pct\n",
       "0            101       A  London     10               558   1.79%\n",
       "1            102       B  London    500               558  89.61%\n",
       "2            103       C  London     48               558   8.60%"
      ]
     },
     "execution_count": 25,
     "metadata": {},
     "output_type": "execute_result"
    }
   ],
   "source": [
    "# 7. Filtering data\n",
    "df[df.groupby('city')['sales'].transform('sum') > 40]"
   ]
  },
  {
   "cell_type": "code",
   "execution_count": 27,
   "id": "aac7eff4-d473-4640-8d94-2a5e3ad3067c",
   "metadata": {},
   "outputs": [
    {
     "data": {
      "text/html": [
       "<div>\n",
       "<style scoped>\n",
       "    .dataframe tbody tr th:only-of-type {\n",
       "        vertical-align: middle;\n",
       "    }\n",
       "\n",
       "    .dataframe tbody tr th {\n",
       "        vertical-align: top;\n",
       "    }\n",
       "\n",
       "    .dataframe thead th {\n",
       "        text-align: right;\n",
       "    }\n",
       "</style>\n",
       "<table border=\"1\" class=\"dataframe\">\n",
       "  <thead>\n",
       "    <tr style=\"text-align: right;\">\n",
       "      <th></th>\n",
       "      <th>name</th>\n",
       "      <th>value</th>\n",
       "    </tr>\n",
       "  </thead>\n",
       "  <tbody>\n",
       "    <tr>\n",
       "      <th>0</th>\n",
       "      <td>A</td>\n",
       "      <td>1.0</td>\n",
       "    </tr>\n",
       "    <tr>\n",
       "      <th>1</th>\n",
       "      <td>A</td>\n",
       "      <td>NaN</td>\n",
       "    </tr>\n",
       "    <tr>\n",
       "      <th>2</th>\n",
       "      <td>B</td>\n",
       "      <td>NaN</td>\n",
       "    </tr>\n",
       "    <tr>\n",
       "      <th>3</th>\n",
       "      <td>B</td>\n",
       "      <td>2.0</td>\n",
       "    </tr>\n",
       "    <tr>\n",
       "      <th>4</th>\n",
       "      <td>B</td>\n",
       "      <td>8.0</td>\n",
       "    </tr>\n",
       "    <tr>\n",
       "      <th>5</th>\n",
       "      <td>C</td>\n",
       "      <td>2.0</td>\n",
       "    </tr>\n",
       "    <tr>\n",
       "      <th>6</th>\n",
       "      <td>C</td>\n",
       "      <td>NaN</td>\n",
       "    </tr>\n",
       "    <tr>\n",
       "      <th>7</th>\n",
       "      <td>C</td>\n",
       "      <td>3.0</td>\n",
       "    </tr>\n",
       "  </tbody>\n",
       "</table>\n",
       "</div>"
      ],
      "text/plain": [
       "  name  value\n",
       "0    A    1.0\n",
       "1    A    NaN\n",
       "2    B    NaN\n",
       "3    B    2.0\n",
       "4    B    8.0\n",
       "5    C    2.0\n",
       "6    C    NaN\n",
       "7    C    3.0"
      ]
     },
     "execution_count": 27,
     "metadata": {},
     "output_type": "execute_result"
    }
   ],
   "source": [
    "# 8. Handling missing values at group level\n",
    "df = pd.DataFrame({\n",
    "    'name': ['A', 'A', 'B', 'B', 'B', 'C', 'C', 'C'],\n",
    "    'value': [1, np.nan, np.nan, 2, 8, 2, np.nan, 3]\n",
    "})\n",
    "df"
   ]
  },
  {
   "cell_type": "code",
   "execution_count": 29,
   "id": "f94da883-e818-44b5-8152-fa6f5f1bb1f5",
   "metadata": {},
   "outputs": [
    {
     "data": {
      "text/html": [
       "<div>\n",
       "<style scoped>\n",
       "    .dataframe tbody tr th:only-of-type {\n",
       "        vertical-align: middle;\n",
       "    }\n",
       "\n",
       "    .dataframe tbody tr th {\n",
       "        vertical-align: top;\n",
       "    }\n",
       "\n",
       "    .dataframe thead th {\n",
       "        text-align: right;\n",
       "    }\n",
       "</style>\n",
       "<table border=\"1\" class=\"dataframe\">\n",
       "  <thead>\n",
       "    <tr style=\"text-align: right;\">\n",
       "      <th></th>\n",
       "      <th>name</th>\n",
       "      <th>value</th>\n",
       "    </tr>\n",
       "  </thead>\n",
       "  <tbody>\n",
       "    <tr>\n",
       "      <th>0</th>\n",
       "      <td>A</td>\n",
       "      <td>1.0</td>\n",
       "    </tr>\n",
       "    <tr>\n",
       "      <th>1</th>\n",
       "      <td>A</td>\n",
       "      <td>1.0</td>\n",
       "    </tr>\n",
       "    <tr>\n",
       "      <th>2</th>\n",
       "      <td>B</td>\n",
       "      <td>5.0</td>\n",
       "    </tr>\n",
       "    <tr>\n",
       "      <th>3</th>\n",
       "      <td>B</td>\n",
       "      <td>2.0</td>\n",
       "    </tr>\n",
       "    <tr>\n",
       "      <th>4</th>\n",
       "      <td>B</td>\n",
       "      <td>8.0</td>\n",
       "    </tr>\n",
       "    <tr>\n",
       "      <th>5</th>\n",
       "      <td>C</td>\n",
       "      <td>2.0</td>\n",
       "    </tr>\n",
       "    <tr>\n",
       "      <th>6</th>\n",
       "      <td>C</td>\n",
       "      <td>2.5</td>\n",
       "    </tr>\n",
       "    <tr>\n",
       "      <th>7</th>\n",
       "      <td>C</td>\n",
       "      <td>3.0</td>\n",
       "    </tr>\n",
       "  </tbody>\n",
       "</table>\n",
       "</div>"
      ],
      "text/plain": [
       "  name  value\n",
       "0    A    1.0\n",
       "1    A    1.0\n",
       "2    B    5.0\n",
       "3    B    2.0\n",
       "4    B    8.0\n",
       "5    C    2.0\n",
       "6    C    2.5\n",
       "7    C    3.0"
      ]
     },
     "execution_count": 29,
     "metadata": {},
     "output_type": "execute_result"
    }
   ],
   "source": [
    "df['value'] = df.groupby('name')\\\n",
    "                .transform(lambda x: x.fillna(x.mean()))\n",
    "df"
   ]
  },
  {
   "cell_type": "markdown",
   "id": "02f1d571-3492-4043-b4de-1cf584dfe826",
   "metadata": {},
   "source": [
    "## Concatenate <a class=\"anchor\" id=\"concatenate-bullet\"></a>"
   ]
  },
  {
   "cell_type": "code",
   "execution_count": null,
   "id": "615e2004-4536-4c9e-a94a-09f35cdb83f4",
   "metadata": {},
   "outputs": [],
   "source": []
  },
  {
   "cell_type": "code",
   "execution_count": null,
   "id": "49ded506-1163-4e2e-9d73-bf10726629c5",
   "metadata": {},
   "outputs": [],
   "source": [
    "df.append(df2) # Append df2 to df (The columns must be the same in both dataframes)"
   ]
  },
  {
   "cell_type": "code",
   "execution_count": null,
   "id": "80dadba1-ef2e-48f8-8d5f-b25eeee6f84d",
   "metadata": {},
   "outputs": [],
   "source": []
  }
 ],
 "metadata": {
  "kernelspec": {
   "display_name": "Python 3 (ipykernel)",
   "language": "python",
   "name": "python3"
  },
  "language_info": {
   "codemirror_mode": {
    "name": "ipython",
    "version": 3
   },
   "file_extension": ".py",
   "mimetype": "text/x-python",
   "name": "python",
   "nbconvert_exporter": "python",
   "pygments_lexer": "ipython3",
   "version": "3.10.4"
  }
 },
 "nbformat": 4,
 "nbformat_minor": 5
}
