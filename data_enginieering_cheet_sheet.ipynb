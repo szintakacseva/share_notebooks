{
 "cells": [
  {
   "cell_type": "code",
   "execution_count": null,
   "id": "97a61d92-b8dd-4025-9e80-2d9f48d768ac",
   "metadata": {},
   "outputs": [],
   "source": [
    "# Data enginieering cheatsheet"
   ]
  },
  {
   "cell_type": "code",
   "execution_count": null,
   "id": "1e2e3e3f-7455-4e98-a3a6-bc6909231fc9",
   "metadata": {},
   "outputs": [],
   "source": [
    "# Tags\n",
    "EDA"
   ]
  },
  {
   "cell_type": "markdown",
   "id": "ad09f09f-ed91-4850-ad66-1f1baa5078eb",
   "metadata": {},
   "source": [
    "# References \n"
   ]
  },
  {
   "cell_type": "code",
   "execution_count": null,
   "id": "7f9e3090-93ab-41ac-aa96-adf0e0f47cf6",
   "metadata": {},
   "outputs": [],
   "source": [
    "[Data enginieering cheatsheet](https://medium.com/geekculture/the-basics-of-a-jupyter-notebook-pandas-cheat-sheet-for-data-engineers-c1099791a93c)  "
   ]
  },
  {
   "cell_type": "code",
   "execution_count": 1,
   "id": "758e8d7e-c6cb-47e7-8c95-e5659e117593",
   "metadata": {},
   "outputs": [],
   "source": [
    "import pandas as pd\n",
    "import numpy as np"
   ]
  },
  {
   "cell_type": "code",
   "execution_count": 2,
   "id": "ac8d52ca-aaad-447b-9eb7-a58199ec531e",
   "metadata": {},
   "outputs": [],
   "source": [
    "# Load data\n",
    "df = pd.read_csv('data/IMDB_Movie_Data.csv' ,sep=\",\")"
   ]
  },
  {
   "cell_type": "code",
   "execution_count": 4,
   "id": "4591f15d-84f5-4ad6-a241-b59cdffd1623",
   "metadata": {},
   "outputs": [],
   "source": [
    "# export df in a csv\n",
    "df.to_csv('data/my_data.csv', index=False, header=True)"
   ]
  },
  {
   "cell_type": "markdown",
   "id": "1a29129c-f2c7-4797-a06a-ee0fe2663d9f",
   "metadata": {},
   "source": [
    "# Exploring data"
   ]
  },
  {
   "cell_type": "code",
   "execution_count": null,
   "id": "8094f834-f9ea-4f25-8da2-93faf896cd7b",
   "metadata": {},
   "outputs": [],
   "source": [
    "df.head()\n",
    "df.tail()\n",
    "df.sample(5)\n",
    "df.shape\n",
    "df.describe()\n",
    "df.info()"
   ]
  },
  {
   "cell_type": "markdown",
   "id": "80dc1e0e-3ef4-4690-8ecf-07160ffa9d4d",
   "metadata": {},
   "source": [
    "# Statistics"
   ]
  },
  {
   "cell_type": "code",
   "execution_count": null,
   "id": "1a4087ba-1933-4b89-98c9-1390a1c7b208",
   "metadata": {},
   "outputs": [],
   "source": [
    "df.describe()\n",
    "df.mean()\n",
    "df.corr()\n",
    "df.count()\n",
    "df.max()\n",
    "df.min()\n",
    "df.median()\n",
    "df.std()"
   ]
  },
  {
   "cell_type": "markdown",
   "id": "2669135a-4307-471f-b2e4-700014506007",
   "metadata": {},
   "source": [
    "# Import data from file"
   ]
  },
  {
   "cell_type": "code",
   "execution_count": null,
   "id": "7cbefbc3-28a6-4869-8feb-427b55a3fe18",
   "metadata": {},
   "outputs": [],
   "source": [
    "# from csv\n",
    "df = pd.read_csv('data/my_data.csv' ,sep=\",\")\n",
    "\n",
    "# from excel\n",
    "df = pd.read_excel('data/my_data.xlsx' ,sheetname='sheet1', skiprows=[1])"
   ]
  },
  {
   "cell_type": "markdown",
   "id": "02a90941-1999-4564-8658-16732fbd6a0d",
   "metadata": {},
   "source": [
    "# Export data to files"
   ]
  },
  {
   "cell_type": "code",
   "execution_count": null,
   "id": "c6e7e97f-cd6c-4f2a-8b79-41a463447899",
   "metadata": {},
   "outputs": [],
   "source": [
    "# export df in a csv\n",
    "df.to_csv('data/my_data.csv', index=False, header=True)\n",
    "\n",
    "# export df to excel\n",
    "df.to_excel('data/my_data.xlsx')"
   ]
  },
  {
   "cell_type": "markdown",
   "id": "79a5f410-2920-49e7-a0fa-d6e30008b5c5",
   "metadata": {},
   "source": [
    "# Column Manipulation"
   ]
  },
  {
   "cell_type": "code",
   "execution_count": null,
   "id": "06e914c1-4b60-4e94-9c1f-5a24415c9d03",
   "metadata": {},
   "outputs": [],
   "source": [
    "df[['Title', 'Rating']]\n",
    "df.filter(['Title', 'Rating'])"
   ]
  },
  {
   "cell_type": "markdown",
   "id": "917d00d3-7992-459c-b958-d33e4ef33be2",
   "metadata": {},
   "source": [
    "# Column Rename"
   ]
  },
  {
   "cell_type": "code",
   "execution_count": null,
   "id": "a0e45f78-1498-4a91-a8eb-c85f4fd56a56",
   "metadata": {},
   "outputs": [],
   "source": [
    "df.rename(columns={'Title':'a', 'Rating':'b'}, inplace=True)\n",
    "df.rename(columns={'a':'Title', 'b':'Rating'}, inplace=True)"
   ]
  },
  {
   "cell_type": "markdown",
   "id": "8e174e2e-429a-4c27-baf5-d60268eb8eed",
   "metadata": {},
   "source": [
    "# Column Reorder"
   ]
  },
  {
   "cell_type": "code",
   "execution_count": null,
   "id": "8479fd80-75de-478e-bb7c-db517a678cdd",
   "metadata": {},
   "outputs": [],
   "source": [
    "# show column values\n",
    "df.columns.values\n",
    "\n",
    "# reorder\n",
    "df[['Title', ....]]"
   ]
  },
  {
   "cell_type": "markdown",
   "id": "e208a9f3-f28f-40a3-829b-8998927cfa17",
   "metadata": {},
   "source": [
    "# Adding a new column"
   ]
  },
  {
   "cell_type": "code",
   "execution_count": null,
   "id": "5599199b-f73c-4935-99e4-7930799e49c5",
   "metadata": {},
   "outputs": [],
   "source": [
    "df['new column'] = 23\n",
    "df['Rating_Votes'] = df.Rating + df.Votes"
   ]
  },
  {
   "cell_type": "markdown",
   "id": "f491527b-e11f-4103-96bb-e580662c907c",
   "metadata": {},
   "source": [
    "# Changing the type of the column"
   ]
  },
  {
   "cell_type": "code",
   "execution_count": null,
   "id": "57cea70e-d91d-4a59-ac45-8b8120f0fd42",
   "metadata": {},
   "outputs": [],
   "source": [
    "df['Year_str'] = df['Year'].astype(str)\n",
    "df['Year_int'] = df['Year_str'].astype(int)\n",
    "\n",
    "# Double to int\n",
    "df['Rating_int'] = df['Rating'].round(0).astype(int)"
   ]
  },
  {
   "cell_type": "markdown",
   "id": "328e4cdb-8e38-4b5c-a9ec-8529e1333ecc",
   "metadata": {},
   "source": [
    "# String Manipulation"
   ]
  },
  {
   "cell_type": "code",
   "execution_count": null,
   "id": "73f9901f-80a7-458a-a408-7aa3ef86b566",
   "metadata": {},
   "outputs": [],
   "source": [
    "df['Title_lower'] = df['Title'].str.lower()\n",
    "df['Title_upper'] = df['Title'].str.upper()\n",
    "df['Title_len'] = df['Title'].str.len()\n",
    "\n",
    "# first word\n",
    "df['Title_first_word'] = df['Title'].str.split('')[0]\n",
    "\n",
    "# find word 'Squad' in the title\n",
    "df['Title_squad'] = df['Title'].str.find('Squad', 0)"
   ]
  },
  {
   "cell_type": "markdown",
   "id": "d3b83c58-0753-468d-a73e-be1ef0c3efd6",
   "metadata": {},
   "source": [
    "# Date manipulation"
   ]
  },
  {
   "cell_type": "code",
   "execution_count": null,
   "id": "d6118698-ce02-493f-9519-8219edeaf3b0",
   "metadata": {},
   "outputs": [],
   "source": [
    "pd.to_datetime('2020/10/13')"
   ]
  },
  {
   "cell_type": "markdown",
   "id": "fdccb54a-9698-4006-b04a-0eb9e72b06c3",
   "metadata": {},
   "source": [
    "# Sort"
   ]
  },
  {
   "cell_type": "code",
   "execution_count": null,
   "id": "eddb9e55-1b52-4919-9c1b-9ae6d8482383",
   "metadata": {},
   "outputs": [],
   "source": [
    "df.sort_values(by='Title', ascending=True)\n",
    "df.sort_values(by=['Title', 'Year'], ascending=True)"
   ]
  },
  {
   "cell_type": "markdown",
   "id": "c6fe680c-0645-4006-8b28-34e814f178fb",
   "metadata": {},
   "source": [
    "# Row manipulation"
   ]
  },
  {
   "cell_type": "code",
   "execution_count": null,
   "id": "5a022a37-438c-44a3-9937-6dd4468ac70f",
   "metadata": {},
   "outputs": [],
   "source": [
    "df[df.Title == 'Prometheus']\n",
    "df[(df.Year == 1998 ) & (df.Rating > 8.5)]\n",
    "titel = ['Prometheus', 'Song', 'Guardians of the Galaxy']\n",
    "df[df.Title.isin(titel)]\n",
    "# select rows 1:3\n",
    "df.iloc[0:3]\n",
    "# first 4 rows and first 2 columns\n",
    "df.iloc[0:4, 0:3]"
   ]
  },
  {
   "cell_type": "markdown",
   "id": "22de7893-9b7c-459b-8603-23b37b3b7863",
   "metadata": {},
   "source": [
    "# Table Manipulation - groupby"
   ]
  },
  {
   "cell_type": "code",
   "execution_count": null,
   "id": "c8799ad1-26d1-47f8-892a-361d29c62206",
   "metadata": {},
   "outputs": [],
   "source": [
    "# nr of titles per year\n",
    "df.groupby('Year')['Title'].count().to_frame()\n",
    "\n",
    "# nr of titles per year and per director\n",
    "df.groupby(['Year', 'Director'])['Title'].count().to_frame()\n",
    "\n",
    "# Rating mean per Director\n",
    "df.groupby('Director')['Rating'].mean().to_frame().rest_index()\n",
    "\n",
    "# combination of different groups per functions\n",
    "\n",
    "df.groupby(['Year', 'Director']).agg(\n",
    "    {'Title':\"count\", # nr of titles per year and per director\n",
    "     'Rating':\"mean\", # mean Rating per year and per director\n",
    "     'Revenue (Millions)': \"sum\", # sum of revenue per year and per director\n",
    "    }).reset_index()"
   ]
  },
  {
   "cell_type": "markdown",
   "id": "fdf58046-7d0d-4705-8ad1-e21cc9f770ed",
   "metadata": {},
   "source": [
    "# Table Manipulation - pivot"
   ]
  },
  {
   "cell_type": "code",
   "execution_count": null,
   "id": "70acd620-9e79-4fef-8574-bb26dabf4fd4",
   "metadata": {},
   "outputs": [],
   "source": [
    "# pivot over Director and mean over other columns\n",
    "pd.pivot_table(df, index=['Director']).reset_index()\n",
    "\n",
    "# pivot with sum\n",
    "pd.pivot_table(df, index=['Director', 'Year'], values = ['Revenue (Millions)'], aggfunc=np.sum).reset_index()\n",
    "\n",
    "# unpivot over years\n",
    "pd.pivot_table(df, values = ['Rating'], columns =['Year']).reset_index()\n",
    "\n",
    "df.melt(id_vars=['index'], var_name= 'Year', value_name='Title')\n"
   ]
  },
  {
   "cell_type": "markdown",
   "id": "f95cc768-6010-40fe-9bcd-4581acc759be",
   "metadata": {},
   "source": [
    "# Table Manipulation - join"
   ]
  },
  {
   "cell_type": "code",
   "execution_count": null,
   "id": "2c42c427-afb5-4ad5-950d-9dc4aae7741f",
   "metadata": {},
   "outputs": [],
   "source": [
    "# create new dataframe df_dir_movies\n",
    "df_dir_movies = df.groupby([\"Director\"])[\"Title\"].count().to_frame(name = 'number of movies').reset_index()\n",
    "    \n",
    "# create new dataframe df_dir_rev\n",
    "df_dir_rev = df.groupby([\"Director\"])[\"Revenue (Millions)\"].sum().to_frame(name = 'Revenue').reset_index()\n",
    "\n",
    "# join the dataframe df_dir_movies with df_dir_rev\n",
    "# how = rigtht, left, inner or outer\n",
    "\n",
    "pd.merge(df_dir_movies,df_dir_rev, left_on=['Director'], right_on=['Director'],how = 'left')"
   ]
  },
  {
   "cell_type": "markdown",
   "id": "eea7708c-e03d-4d70-85b2-775309e32173",
   "metadata": {},
   "source": [
    "# Concatenate"
   ]
  },
  {
   "cell_type": "code",
   "execution_count": null,
   "id": "49ded506-1163-4e2e-9d73-bf10726629c5",
   "metadata": {},
   "outputs": [],
   "source": [
    "df.append(df2) # Append df2 to df (The columns must be the same in both dataframes)"
   ]
  },
  {
   "cell_type": "code",
   "execution_count": null,
   "id": "2aac0f49-2238-406f-99b0-07f0cea1e607",
   "metadata": {},
   "outputs": [],
   "source": []
  }
 ],
 "metadata": {
  "kernelspec": {
   "display_name": "Python 3 (ipykernel)",
   "language": "python",
   "name": "python3"
  },
  "language_info": {
   "codemirror_mode": {
    "name": "ipython",
    "version": 3
   },
   "file_extension": ".py",
   "mimetype": "text/x-python",
   "name": "python",
   "nbconvert_exporter": "python",
   "pygments_lexer": "ipython3",
   "version": "3.10.4"
  }
 },
 "nbformat": 4,
 "nbformat_minor": 5
}
