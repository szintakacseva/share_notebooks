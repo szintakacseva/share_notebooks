{
 "cells": [
  {
   "cell_type": "code",
   "execution_count": null,
   "id": "fc59be94-7f87-4377-bb14-4b73e9280427",
   "metadata": {},
   "outputs": [],
   "source": [
    "# Inmteractive EDA with passwords"
   ]
  },
  {
   "cell_type": "code",
   "execution_count": null,
   "id": "8df906cd-4d66-4f9c-ba5d-d3bfba3b732d",
   "metadata": {},
   "outputs": [],
   "source": [
    "# Tags\n",
    "interactive EDA, password"
   ]
  },
  {
   "cell_type": "code",
   "execution_count": null,
   "id": "c7cdf88a-d5dc-43c5-8745-02afd6c11145",
   "metadata": {},
   "outputs": [],
   "source": [
    "# References"
   ]
  },
  {
   "cell_type": "code",
   "execution_count": 1,
   "id": "525628c8-5e13-408e-ab16-67fc4f163e88",
   "metadata": {},
   "outputs": [],
   "source": [
    "import getpass\n",
    "\n",
    "import ipywidgets as widgets\n",
    "from IPython.display import display\n",
    "\n",
    "import pandas as pd\n",
    "import numpy as np\n",
    "import matplotlib.pyplot as plt\n",
    "import seaborn as sns\n",
    "\n",
    "from utils import tab_data, interactive_segment_numeric_by_categoricals, segment_numeric_by_categoricals"
   ]
  },
  {
   "cell_type": "code",
   "execution_count": 2,
   "id": "0529c86a-4c28-4d14-a21a-d938a9e88859",
   "metadata": {},
   "outputs": [],
   "source": [
    "# Load data\n",
    "df = pd.read_csv('data/russia_alcohol.csv')"
   ]
  },
  {
   "cell_type": "code",
   "execution_count": null,
   "id": "e3f7ed74-db09-487e-9373-95885304085b",
   "metadata": {},
   "outputs": [],
   "source": [
    "# Quick check\n",
    "df.sample(5)"
   ]
  },
  {
   "cell_type": "code",
   "execution_count": null,
   "id": "5992927f-de4d-4f03-b468-91c28691fb0d",
   "metadata": {},
   "outputs": [],
   "source": [
    "# Simple widgets"
   ]
  },
  {
   "cell_type": "code",
   "execution_count": 3,
   "id": "cb8cb24b-e36c-4d39-8ac1-dc89c718b5df",
   "metadata": {},
   "outputs": [
    {
     "name": "stdin",
     "output_type": "stream",
     "text": [
      "User:  ····\n"
     ]
    }
   ],
   "source": [
    "user = getpass.getpass(prompt='User: ', stream=None)"
   ]
  },
  {
   "cell_type": "code",
   "execution_count": null,
   "id": "dc67036f-16ca-4772-9b1a-1ffc1d15dd58",
   "metadata": {},
   "outputs": [],
   "source": [
    "password = getpass.getpass(prompt='Password: ', stream=None)"
   ]
  },
  {
   "cell_type": "code",
   "execution_count": null,
   "id": "ea25dc45-144d-430f-9179-a393ee74e5cf",
   "metadata": {},
   "outputs": [],
   "source": [
    "# Quick example multiple dropdowns \n",
    "env = widgets.Dropdown(\n",
    "    options=['acc', 'prd'],\n",
    "    value='acc',\n",
    "    description='env:',\n",
    "    disabled=False,\n",
    ")\n",
    "\n",
    "agent = widgets.Dropdown(\n",
    "    options=['pipeline_rest_lam', 'direct_ingestion'],\n",
    "    value='pipeline_rest_lam',\n",
    "    description='agent:',\n",
    "    disabled=False,\n",
    ")\n",
    "\n",
    "box = widgets.Box(children=[env, agent])\n",
    "box"
   ]
  },
  {
   "cell_type": "code",
   "execution_count": null,
   "id": "1447a08f-5857-431c-b878-c6066283101d",
   "metadata": {},
   "outputs": [],
   "source": [
    "print(env.value)\n",
    "print(agent.value)"
   ]
  },
  {
   "cell_type": "code",
   "execution_count": null,
   "id": "21475f49-44a5-42fb-9480-28806920838f",
   "metadata": {},
   "outputs": [],
   "source": [
    "# Dropdown for selecting columns and nr of samples\n",
    "\n",
    "columns = widgets.SelectMultiple(\n",
    "    options=df.columns,\n",
    "    description='columns:',\n",
    "    disabled=False,\n",
    ")\n",
    "\n",
    "samples = widgets.IntText(\n",
    "    value=5,\n",
    "    description='Number of samples:',\n",
    "    disabled=False\n",
    ")\n",
    "\n",
    "box = widgets.Box(children=[columns, samples])\n",
    "box"
   ]
  },
  {
   "cell_type": "code",
   "execution_count": null,
   "id": "d17ba762-ba70-4b92-8321-09203fb072d9",
   "metadata": {},
   "outputs": [],
   "source": [
    "df[list(columns.value)].sample(samples.value)"
   ]
  },
  {
   "cell_type": "code",
   "execution_count": 5,
   "id": "2b8833bd-156a-4548-8aa7-4577a1afaa8d",
   "metadata": {},
   "outputs": [
    {
     "data": {
      "application/vnd.jupyter.widget-view+json": {
       "model_id": "4c9651fdd24d4bf5879bf06a1e95d4aa",
       "version_major": 2,
       "version_minor": 0
      },
      "text/plain": [
       "Box(children=(SelectMultiple(description='columns:', options=('year', 'region', 'wine', 'beer', 'vodka', 'cham…"
      ]
     },
     "metadata": {},
     "output_type": "display_data"
    },
    {
     "data": {
      "application/vnd.jupyter.widget-view+json": {
       "model_id": "816ed13f7ee740ce8cf3c8770313d566",
       "version_major": 2,
       "version_minor": 0
      },
      "text/plain": [
       "Output()"
      ]
     },
     "metadata": {},
     "output_type": "display_data"
    }
   ],
   "source": [
    "# Dropdown for selecting columns and nr of samples with on change syncronised\n",
    "import ipywidgets as widgets\n",
    "\n",
    "from IPython.display import display\n",
    "from IPython.display import clear_output\n",
    "\n",
    "columns = widgets.SelectMultiple(\n",
    "    options=df.columns,\n",
    "    description='columns:',\n",
    "    disabled=False,\n",
    ")\n",
    "\n",
    "samples = widgets.IntText(\n",
    "    value=5,\n",
    "    description='Number of samples:',\n",
    "    disabled=False\n",
    ")\n",
    "\n",
    "box = widgets.Box(children=[columns, samples])\n",
    "out = widgets.Output()\n",
    "\n",
    "def on_value_change(change):\n",
    "    with out:\n",
    "        clear_output()\n",
    "        display(df[list(columns.value)].sample(samples.value))\n",
    "        \n",
    "\n",
    "columns.observe(on_value_change, names='value')\n",
    "samples.observe(on_value_change, names='value')\n",
    "\n",
    "display(box, out)"
   ]
  },
  {
   "cell_type": "code",
   "execution_count": null,
   "id": "e71bee92-692f-49bf-aedf-f4b06526f4f8",
   "metadata": {},
   "outputs": [],
   "source": [
    "# Distribution of categorical features"
   ]
  },
  {
   "cell_type": "code",
   "execution_count": null,
   "id": "5f318202-dc6c-4ac8-9788-848d95f0f237",
   "metadata": {},
   "outputs": [],
   "source": [
    "df.select_dtypes(include='object').columns"
   ]
  },
  {
   "cell_type": "code",
   "execution_count": null,
   "id": "ee7b5696-8d15-4f19-9381-85ff97a70ee9",
   "metadata": {},
   "outputs": [],
   "source": [
    "df.describe(include='object')"
   ]
  },
  {
   "cell_type": "code",
   "execution_count": 3,
   "id": "6f861ec6-2624-4802-bd74-4159f9e14759",
   "metadata": {},
   "outputs": [
    {
     "data": {
      "application/vnd.jupyter.widget-view+json": {
       "model_id": "7348e7e0496b489bb15ac982459f80cc",
       "version_major": 2,
       "version_minor": 0
      },
      "text/plain": [
       "HBox(children=(VBox(children=(SelectMultiple(description='Categoricals:', options=('year', 'region'), value=()…"
      ]
     },
     "metadata": {},
     "output_type": "display_data"
    },
    {
     "data": {
      "application/vnd.jupyter.widget-view+json": {
       "model_id": "c9579ecdbbd54fc7b3ed28f0a21d4660",
       "version_major": 2,
       "version_minor": 0
      },
      "text/plain": [
       "Output()"
      ]
     },
     "metadata": {},
     "output_type": "display_data"
    }
   ],
   "source": [
    "# Segment the target variable by categorical features\n",
    "\n",
    "# transform year to str\n",
    "df['year'] = df['year'].astype(str)\n",
    "interactive_segment_numeric_by_categoricals(df)"
   ]
  },
  {
   "cell_type": "code",
   "execution_count": null,
   "id": "565ea158-6815-4cfd-90c5-597cb3e89f13",
   "metadata": {},
   "outputs": [],
   "source": []
  },
  {
   "cell_type": "code",
   "execution_count": null,
   "id": "10b3a759-d2e7-4cf2-9ca7-b05e5a93a92f",
   "metadata": {},
   "outputs": [],
   "source": [
    "# Miscellous"
   ]
  },
  {
   "cell_type": "code",
   "execution_count": null,
   "id": "17a07618-1b2c-4039-b2d5-1017f49917a6",
   "metadata": {},
   "outputs": [],
   "source": [
    "sns.countplot(y=df.region, data=df.wine)\n",
    "plt.show()"
   ]
  },
  {
   "cell_type": "code",
   "execution_count": null,
   "id": "3c09b9fa-4442-4608-ae72-236ee3d7b318",
   "metadata": {},
   "outputs": [],
   "source": [
    "# Segment the target variable by categorical features\n",
    "columns = df.select_dtypes(include='object').columns.values\n",
    "\n",
    "column_ranges = list([columns[i:i+3] for i in range(0,len(columns),3)])\n",
    "\n",
    "print(column_ranges)\n",
    "for columns in column_ranges:\n",
    "    for column in columns:\n",
    "        print(column)\n",
    "        unique_values = df[column].unique()\n",
    "        value_ranges = [unique_values[i:i+10] for i in range(0,len(unique_values),10)] \n",
    "        for value in value_ranges:\n",
    "            print(value)\n",
    "            sns.boxplot(y=column, x='wine', data=df[df[column].isin(value)])\n",
    "            plt.show()\n",
    "    "
   ]
  },
  {
   "cell_type": "code",
   "execution_count": null,
   "id": "75b7420a-7990-4ec1-8138-8d37859ca68f",
   "metadata": {},
   "outputs": [],
   "source": [
    "\n",
    "\n",
    "\n",
    "\n"
   ]
  }
 ],
 "metadata": {
  "kernelspec": {
   "display_name": "Python 3 (ipykernel)",
   "language": "python",
   "name": "python3"
  },
  "language_info": {
   "codemirror_mode": {
    "name": "ipython",
    "version": 3
   },
   "file_extension": ".py",
   "mimetype": "text/x-python",
   "name": "python",
   "nbconvert_exporter": "python",
   "pygments_lexer": "ipython3",
   "version": "3.10.4"
  }
 },
 "nbformat": 4,
 "nbformat_minor": 5
}
