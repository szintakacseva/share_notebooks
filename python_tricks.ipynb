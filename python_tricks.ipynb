{
 "cells": [
  {
   "cell_type": "code",
   "execution_count": null,
   "id": "eb4a5d4f-360a-4251-b9ae-0c5f1ece5871",
   "metadata": {},
   "outputs": [],
   "source": [
    "# Python tricks "
   ]
  },
  {
   "cell_type": "code",
   "execution_count": null,
   "id": "131f3429-0a21-415f-8c82-8e0d10746e18",
   "metadata": {},
   "outputs": [],
   "source": [
    "# Tags\n",
    "#sketch, pd.cut()"
   ]
  },
  {
   "cell_type": "markdown",
   "id": "52c38d9d-1933-4395-97b0-c13abb6e3749",
   "metadata": {},
   "source": [
    "# References\n",
    "[Tips](https://medium.com/@Divithraju/six-amazing-unknown-python-libraries-c7bdad6b4472)\n",
    "[Tips](https://pub.towardsai.net/six-amazing-python-libraries-that-im-using-now-cbcf4f4ddb79)\n",
    "[Python for data enginieers](https://towardsdatascience.com/python-for-data-engineers-f3d5db59b6dd)"
   ]
  },
  {
   "cell_type": "code",
   "execution_count": null,
   "id": "c874761f-8d59-4ca6-8744-aa9d80e18c67",
   "metadata": {},
   "outputs": [],
   "source": [
    "# imports\n",
    "import os\n",
    "import time\n",
    "import random\n",
    "\n",
    "import matplotlib.pyplot as plt\n",
    "import pandas as pd\n",
    "import numpy as np\n",
    "import seaborn as sns\n",
    "from numpy.random import normal\n",
    "from numpy import hstack\n",
    "from statsmodels.distributions.empirical_distribution import ECDF\n",
    "import sketch\n",
    "\n",
    "# utils\n",
    "from utils import tab_data\n",
    "\n",
    "# settings\n",
    "import warnings\n",
    "warnings.filterwarnings('ignore')\n",
    "#print all rows of a df in ipython shell \n",
    "pd.set_option('display.max_rows', None)\n",
    "#print all columns of a df in ipython shell \n",
    "pd.set_option('display.max_columns', None)\n",
    "pd.set_option('display.float_format', lambda x: '%.5f' % x)\n",
    "pd.set_option(\"display.precision\", 6)"
   ]
  },
  {
   "cell_type": "markdown",
   "id": "78632bbe-324f-4536-8494-d3d7daddce25",
   "metadata": {},
   "source": [
    "## TOC:\n",
    "* [sketch](#sketch)\n",
    "* [List_comprehensions_for_json_data](#List_comprehensions_for_json_data)\n",
    "* [Decorators](#Decorators)\n",
    "* [Working_with_APIs](#Working_with_APIs)\n",
    "* [maps](#maps)\n",
    "* [filters](#filters)\n",
    "* [Process_large_datasets_using_Pandas](#Process_large_datasets_using_Pandas)\n",
    "* [binning](#binning)"
   ]
  },
  {
   "cell_type": "markdown",
   "id": "5c31ea09-e726-433e-896c-42d2886f1213",
   "metadata": {},
   "source": [
    "## sketch <a class=\"anchor\" id=\"sketch\"></a>"
   ]
  },
  {
   "cell_type": "code",
   "execution_count": null,
   "id": "64b70781-c5c5-4bf7-a2f7-0bb53814197e",
   "metadata": {},
   "outputs": [],
   "source": [
    "# sketch - AI tool for eda"
   ]
  },
  {
   "cell_type": "code",
   "execution_count": null,
   "id": "1fb3ec96-7167-440d-8a07-65fbf8dc34bd",
   "metadata": {},
   "outputs": [],
   "source": [
    "path = os.path.abspath(os.getcwd())\n",
    "my_file = 'my_data.csv'\n",
    "input_path = os.path.join(path, 'data', my_file)\n",
    "\n",
    "df = pd.read_csv(input_path)"
   ]
  },
  {
   "cell_type": "code",
   "execution_count": null,
   "id": "4bcea17a-e2bb-4a2e-a39b-bae6485a685c",
   "metadata": {},
   "outputs": [],
   "source": [
    "df.columns"
   ]
  },
  {
   "cell_type": "code",
   "execution_count": null,
   "id": "b6a954d0-3455-47e8-89d5-cec7a286ccd6",
   "metadata": {},
   "outputs": [],
   "source": [
    "df.shape"
   ]
  },
  {
   "cell_type": "code",
   "execution_count": null,
   "id": "80cd1e9f-6660-44e2-948e-490d8c48696b",
   "metadata": {},
   "outputs": [],
   "source": [
    "# Asking which columns are category type\n",
    "df.sketch.ask(\"Which columns are categorical type?\")"
   ]
  },
  {
   "cell_type": "code",
   "execution_count": null,
   "id": "9cc58877-558b-4b96-9421-cfd1146d5e30",
   "metadata": {},
   "outputs": [],
   "source": [
    "# To find the shape of the dataframe\n",
    "df.sketch.ask(\"What is the shape of the dataframe\")"
   ]
  },
  {
   "cell_type": "code",
   "execution_count": null,
   "id": "6a59b3a4-14eb-4fed-83f3-01057c30c085",
   "metadata": {},
   "outputs": [],
   "source": [
    "# Asking to provide code snipped for visualising the emotions\n",
    "df.sketch.howto(\"Visualize the Actors\")"
   ]
  },
  {
   "cell_type": "code",
   "execution_count": null,
   "id": "2b8b88f1-7f8a-4840-a01b-8d59381b791a",
   "metadata": {},
   "outputs": [],
   "source": [
    "# Import libraries\n",
    "import matplotlib.pyplot as plt\n",
    "import seaborn as sns\n",
    "\n",
    "# Create a list of actors from the df\n",
    "actors = df['Actors'].tolist()\n",
    "\n",
    "# Create a list of unique actors from the list of actors\n",
    "unique_actors = list(set(actors))\n",
    "\n",
    "# Create a dictionary with actor name as key and count as value \n",
    "actor_count = {actor: actors.count(actor) for actor in unique_actors}\n",
    "\n",
    "# Plot the actor count using seaborn barplot\n",
    "sns.barplot(x=list(actor_count.keys()), y=list(actor_count.values()))\n",
    "plt.xticks(rotation=90)\n",
    "plt.show()"
   ]
  },
  {
   "cell_type": "code",
   "execution_count": null,
   "id": "ec8e4f7f-d954-4135-9b3a-c086fca2621a",
   "metadata": {},
   "outputs": [],
   "source": [
    "# Asking to provide code snipped for visualising the emotions\n",
    "df.sketch.howto(\"List the unique Actors\")"
   ]
  },
  {
   "cell_type": "code",
   "execution_count": null,
   "id": "ea660a91-6ce1-4529-87e4-09d4e48edb11",
   "metadata": {},
   "outputs": [],
   "source": [
    "# Get the unique values of the Actors column\n",
    "unique_actors = df['Actors'].unique()\n",
    "\n",
    "# Print the list of unique actors\n",
    "print(unique_actors)"
   ]
  },
  {
   "cell_type": "markdown",
   "id": "ac275f09-85e2-4bd9-86d3-ff8ec1b98d69",
   "metadata": {},
   "source": [
    "## List_comprehensions_for_json_data <a class=\"anchor\" id=\"List_comprehensions_for_json_data\"></a>"
   ]
  },
  {
   "cell_type": "code",
   "execution_count": null,
   "id": "7a11435c-ef2f-4712-abb7-bbf2e5108a17",
   "metadata": {},
   "outputs": [],
   "source": [
    "# List comprehensions for json data"
   ]
  },
  {
   "cell_type": "code",
   "execution_count": null,
   "id": "c5072ead-2c62-43c1-8abb-2eb53e719e70",
   "metadata": {},
   "outputs": [],
   "source": [
    "import io\n",
    "import json\n",
    "\n",
    "def etl(item):\n",
    "    return json.dumps(item)\n",
    "\n",
    "# Text file loaded as a blob\n",
    "blob = \"\"\"\n",
    "        [\n",
    "{\"id\":\"1\",\"first_name\":\"John\"},\n",
    "{\"id\":\"2\",\"first_name\":\"Mary\"}\n",
    "]\n",
    "\"\"\"\n",
    "json_data = json.loads(blob)\n",
    "data_str = u\"\\n\".join(etl(item) for item in json_data)\n",
    "\n",
    "print(data_str)\n",
    "data_file = io.BytesIO(data_str.encode())\n",
    "\n",
    "# This data file is ready for BigQuery as Newline delimited JSON\n",
    "print(data_file)"
   ]
  },
  {
   "cell_type": "code",
   "execution_count": null,
   "id": "42cd6b08-95e4-4f1c-be1e-a9fc3898a8fb",
   "metadata": {},
   "outputs": [],
   "source": [
    "## Decorators <a class=\"anchor\" id=\"Decorators\"></a>"
   ]
  },
  {
   "cell_type": "code",
   "execution_count": null,
   "id": "5870f9d5-3f82-4826-8ebd-8ca9def2feea",
   "metadata": {},
   "outputs": [],
   "source": [
    "# Decorators"
   ]
  },
  {
   "cell_type": "code",
   "execution_count": null,
   "id": "200a7816-2b94-4a52-b2d4-c1c56f1df39d",
   "metadata": {},
   "outputs": [],
   "source": [
    "def etl_decorator(func):\n",
    "    def wrapper():\n",
    "        result = func()\n",
    "        return f'Processing again {result}' \n",
    "    return wrapper\n",
    "\n",
    "@etl_decorator\n",
    "def unzip_data():\n",
    "    return \"unzipped data\"\n",
    "\n",
    "@etl_decorator\n",
    "def zip_data():\n",
    "    return \"zipped data\"\n",
    "\n",
    "print(unzip_data())  # Output: Processing unzipped data\n",
    "print(zip_data())  # Output: Processing unzipped data"
   ]
  },
  {
   "cell_type": "markdown",
   "id": "1b55f0a1-87dd-47a6-9a86-bba0940dd441",
   "metadata": {},
   "source": [
    "## Working_with_APIs <a class=\"anchor\" id=\"Working_with_APIs\"></a>"
   ]
  },
  {
   "cell_type": "code",
   "execution_count": null,
   "id": "374e670d-2c30-4d1b-9561-46802df09935",
   "metadata": {},
   "outputs": [],
   "source": [
    "# Working with APIs"
   ]
  },
  {
   "cell_type": "code",
   "execution_count": null,
   "id": "a4622c90-f3bb-44c1-8938-48e1b28c967f",
   "metadata": {},
   "outputs": [],
   "source": [
    "import requests\n",
    "session = requests.Session()\n",
    "\n",
    "url=\"https://api.nasa.gov/neo/rest/v1/feed\"\n",
    "apiKey=\"your_api_key\"\n",
    "requestParams = {\n",
    "    'api_key': apiKey,\n",
    "    'start_date': '2023-04-20',\n",
    "    'end_date': '2023-04-21'\n",
    "}\n",
    "response = session.get(url, params = requestParams, stream=True)\n",
    "print(response.status_code)"
   ]
  },
  {
   "cell_type": "markdown",
   "id": "a167bb1c-cb19-4f58-8d05-13b6cd6bfa66",
   "metadata": {},
   "source": [
    "## maps <a class=\"anchor\" id=\"maps\"></a>"
   ]
  },
  {
   "cell_type": "code",
   "execution_count": null,
   "id": "3ecacfff-64fa-4c9f-be54-f77bc4ac0753",
   "metadata": {},
   "outputs": [],
   "source": [
    "# map"
   ]
  },
  {
   "cell_type": "code",
   "execution_count": null,
   "id": "1ac571c4-aec1-4167-a471-e40c0f2a16d4",
   "metadata": {},
   "outputs": [],
   "source": [
    "# transforms data line by line aplying map function to items in the dataset prrocessing it as an iterable\n",
    "\n",
    "import math \n",
    "numbers = [10,20]\n",
    "factorials = list(map(lambda i: math.factorial(int(math.sqrt(i**3))), numbers))\n",
    "print(factorials)"
   ]
  },
  {
   "cell_type": "markdown",
   "id": "861a4d04-03ed-47e7-968d-23fb73de08ab",
   "metadata": {},
   "source": [
    "## filters <a class=\"anchor\" id=\"filters\"></a>"
   ]
  },
  {
   "cell_type": "code",
   "execution_count": null,
   "id": "6e2dadd3-0676-4802-9320-49270d9cc340",
   "metadata": {},
   "outputs": [],
   "source": [
    "# filter"
   ]
  },
  {
   "cell_type": "code",
   "execution_count": null,
   "id": "b41a368a-71cd-4877-913f-36bba2479334",
   "metadata": {},
   "outputs": [],
   "source": [
    "# filter to extract objects matching a certain criteria\n",
    "\n",
    "numbers = [10,21, 43, 88, 40]\n",
    "even_numbers = list(filter(lambda i: i% 2 == 0, numbers))\n",
    "print(even_numbers)"
   ]
  },
  {
   "cell_type": "markdown",
   "id": "5b23d50f-a9a0-4d01-9635-cdd070f6e0a5",
   "metadata": {},
   "source": [
    "## Process_large_datasets_using_Pandas <a class=\"anchor\" id=\"Process_large_datasets_using_Pandas\"></a>"
   ]
  },
  {
   "cell_type": "code",
   "execution_count": null,
   "id": "39365738-9fc0-4a08-9380-17270f0a0f0b",
   "metadata": {},
   "outputs": [],
   "source": [
    "# Process large datasets using Pandas"
   ]
  },
  {
   "cell_type": "code",
   "execution_count": null,
   "id": "940881d5-a6f9-432e-a368-c87688aea745",
   "metadata": {},
   "outputs": [],
   "source": [
    "# Example not running code 1\n",
    "batchsize = 10 ** 5\n",
    "with pd.read_csv(filename, chunksize=batchsize) as reader:\n",
    "    for batch in reader:\n",
    "        etl(batch)"
   ]
  },
  {
   "cell_type": "code",
   "execution_count": null,
   "id": "879a61be-7206-497e-9375-945a9e42052a",
   "metadata": {},
   "outputs": [],
   "source": [
    "# Example not running code 2\n",
    "batch_data=pd.read_table('recommendation_data.csv',chunksize=100000,sep=';',\\\n",
    "       names=['group','user','rating','date','id'],index_col='id',\\\n",
    "       header=None,parse_dates=['date'])\n",
    "\n",
    "df=pd.DataFrame()\n",
    "%time df=pd.concat(batch.groupby(['group','user',batch['date'].map(lambda x: x.year)])['rating'].agg(['sum']) for batch in batch_data)"
   ]
  },
  {
   "cell_type": "markdown",
   "id": "f7be5c6d-aaa0-4bd0-b61f-8e2df52f2cb6",
   "metadata": {},
   "source": [
    "## binning <a class=\"anchor\" id=\"binning\"></a>"
   ]
  },
  {
   "cell_type": "code",
   "execution_count": null,
   "id": "f75b3a18-182e-49ff-bbd8-0d729066c3cc",
   "metadata": {},
   "outputs": [],
   "source": [
    "# binning using cut\n",
    "\n",
    "import time\n",
    "import random\n",
    "\n",
    "data = {\n",
    "    'Employee_ID': range(1, 1_000_001),\n",
    "    'Performance_Score': [random.randint(0, 100) for _ in range(1_000_000)]\n",
    "}\n",
    "df = pd.DataFrame(data)\n",
    "\n",
    "begin = time.time() \n",
    "\n",
    "bins = [0, 69, 89, 100]\n",
    "labels = ['Needs Improvement', 'Good', 'Excellent']\n",
    "df['Performance_Category'] = pd.cut(df['Performance_Score'], bins=bins, labels=labels)\n",
    "end = time.time() \n",
    "print(f\"Total runtime of the program is {end - begin}\") \n",
    "# Total runtime of the program is 0.052858829498291016"
   ]
  },
  {
   "cell_type": "code",
   "execution_count": null,
   "id": "62c0df36-6073-49ab-ae28-441f2b53852f",
   "metadata": {},
   "outputs": [],
   "source": []
  }
 ],
 "metadata": {
  "kernelspec": {
   "display_name": "Python 3 (ipykernel)",
   "language": "python",
   "name": "python3"
  },
  "language_info": {
   "codemirror_mode": {
    "name": "ipython",
    "version": 3
   },
   "file_extension": ".py",
   "mimetype": "text/x-python",
   "name": "python",
   "nbconvert_exporter": "python",
   "pygments_lexer": "ipython3",
   "version": "3.10.4"
  }
 },
 "nbformat": 4,
 "nbformat_minor": 5
}
