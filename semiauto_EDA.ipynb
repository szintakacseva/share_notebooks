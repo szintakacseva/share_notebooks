{
 "cells": [
  {
   "cell_type": "code",
   "execution_count": null,
   "id": "6ac1c7fd-e883-464e-8e73-0ae254ba212a",
   "metadata": {},
   "outputs": [],
   "source": [
    "# EDA semiautomation using - ydata-profiling, autoviz, sweetviz"
   ]
  },
  {
   "cell_type": "markdown",
   "id": "3e143d2e-7348-436d-9700-75369d01f876",
   "metadata": {},
   "source": [
    "(https://towardsdatascience.com/3-powerful-python-libraries-to-partially-automate-eda-and-get-you-started-with-your-data-project-d7941fe69818)"
   ]
  },
  {
   "cell_type": "code",
   "execution_count": null,
   "id": "148f4574-9715-4cf2-922f-e30ca2eb4aa8",
   "metadata": {},
   "outputs": [],
   "source": [
    "# imports\n",
    "import os\n",
    "import matplotlib.pyplot as plt\n",
    "import pandas as pd\n",
    "import numpy as np\n",
    "import seaborn as sns\n",
    "\n",
    "# EDA - asking questions\n",
    "import sketch\n",
    "\n",
    "# EDA - semiautomatic\n",
    "from ydata_profiling import ProfileReport\n",
    "from autoviz.AutoViz_Class import AutoViz_Class\n",
    "import sweetviz as sv\n",
    "\n",
    "from utils import tab_data\n",
    "\n",
    "# settings\n",
    "import warnings\n",
    "warnings.filterwarnings('ignore')\n",
    "#print all rows of a df in ipython shell \n",
    "pd.set_option('display.max_rows', None)\n",
    "#print all columns of a df in ipython shell \n",
    "pd.set_option('display.max_columns', None)\n",
    "pd.set_option('display.float_format', lambda x: '%.5f' % x)\n",
    "pd.set_option(\"display.precision\", 2)\n",
    "\n",
    "# optional\n",
    "sns.set_style('darkgrid')"
   ]
  },
  {
   "cell_type": "code",
   "execution_count": null,
   "id": "2e38d007-06a8-463b-a174-f50d08c1210e",
   "metadata": {},
   "outputs": [],
   "source": [
    "# load data\n",
    "\n",
    "# path = 'e:\\PycharmProjects\\CompleteEDA'\n",
    "path = os.path.abspath(os.getcwd())\n",
    "file_train = 'advanced_train.csv'\n",
    "file_test = 'advanced_test.csv'\n",
    "\n",
    "path_to_file_train = os.path.join(path, 'data', file_train)\n",
    "path_to_file_test = os.path.join(path, 'data', file_test)\n",
    "\n",
    "df = pd.read_csv(path_to_file)\n",
    "df_t = pd.read_csv(path_to_file_test)\n",
    "df.sample(5)"
   ]
  },
  {
   "cell_type": "code",
   "execution_count": null,
   "id": "121d2ab5-bf14-4b42-8212-be633db8592d",
   "metadata": {},
   "outputs": [],
   "source": [
    "# EDA libraries\n",
    "#!pip install ydata-profiling\n",
    "#!pip install autoviz\n",
    "#!pip install sweetviz "
   ]
  },
  {
   "cell_type": "markdown",
   "id": "42b08e2b-38bb-4f0d-a201-fbb918997dcf",
   "metadata": {},
   "source": [
    "## TOC:\n",
    "* [ydata-profiling](#ydata-profiling)\n",
    "* [autoviz](#autoviz)\n",
    "* [sweetviz](#sweetviz)"
   ]
  },
  {
   "cell_type": "markdown",
   "id": "cc6bd67b-1c72-461c-9098-58b1618fd824",
   "metadata": {},
   "source": [
    "## ProfileReport <a class=\"anchor\" id=\"ydata-profiling\"></a>"
   ]
  },
  {
   "cell_type": "code",
   "execution_count": null,
   "id": "23ee8af4-98f5-4028-8074-f8a4e883dfca",
   "metadata": {},
   "outputs": [],
   "source": [
    "from ydata_profiling import ProfileReport\n",
    "\n",
    "#Generate the data profile report\n",
    "profile = ProfileReport(df,title='EDA')\n",
    "\n",
    "#show the report on the notebook\n",
    "profile.to_notebook_iframe()"
   ]
  },
  {
   "cell_type": "markdown",
   "id": "ea8d5932-bf94-4b34-b573-391af0ed150e",
   "metadata": {},
   "source": [
    "## Autoviz <a class=\"anchor\" id=\"autoviz\"></a>"
   ]
  },
  {
   "cell_type": "code",
   "execution_count": null,
   "id": "ab290888-fbbe-4858-a0e9-86857904bd15",
   "metadata": {},
   "outputs": [],
   "source": [
    "from autoviz.AutoViz_Class import AutoViz_Class\n",
    "\n",
    "#Instantiate AutoViz_Class\n",
    "AV = AutoViz_Class()\n",
    "\n",
    "#Run the EDA\n",
    "df = AV.AutoViz(filename='',\n",
    "                dfte=df,\n",
    "                verbose=1)"
   ]
  },
  {
   "cell_type": "markdown",
   "id": "b6006fe4-1502-4837-b9dc-6c6a336874eb",
   "metadata": {},
   "source": [
    "## sweetviz <a class=\"anchor\" id=\"sweetviz\"></a>"
   ]
  },
  {
   "cell_type": "code",
   "execution_count": null,
   "id": "ae760cd4-2d97-4755-ba56-31dacf7ed8eb",
   "metadata": {},
   "outputs": [],
   "source": [
    "import sweetviz as sv\n",
    "\n",
    "# Generate a comparison report\n",
    "compare = sv.compare(source=[df,'Training'],\n",
    "                     compare=[df_t,'Test'],\n",
    "                     target_feat=\"SalePrice\")\n",
    "\n",
    "#Shows the report in the notebook\n",
    "compare.show_notebook(w=None, \n",
    "                h=None, \n",
    "                scale=None,\n",
    "                layout='widescreen',\n",
    "                filepath=None)"
   ]
  },
  {
   "cell_type": "code",
   "execution_count": null,
   "id": "c7d7fe1e-d206-443b-84fb-975181839c25",
   "metadata": {},
   "outputs": [],
   "source": []
  }
 ],
 "metadata": {
  "kernelspec": {
   "display_name": "Python 3 (ipykernel)",
   "language": "python",
   "name": "python3"
  },
  "language_info": {
   "codemirror_mode": {
    "name": "ipython",
    "version": 3
   },
   "file_extension": ".py",
   "mimetype": "text/x-python",
   "name": "python",
   "nbconvert_exporter": "python",
   "pygments_lexer": "ipython3",
   "version": "3.10.4"
  }
 },
 "nbformat": 4,
 "nbformat_minor": 5
}
